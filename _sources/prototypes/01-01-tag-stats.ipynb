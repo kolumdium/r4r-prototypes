{
 "cells": [
  {
   "cell_type": "markdown",
   "metadata": {},
   "source": [
    "# OSM Tag Stats\n",
    "In this Notebook we will calculate the availability of different tags in the OpenSteetMap data of different Locations.\n",
    "\n",
    "This means we will look at the percentage of edges that have a given tag.\n",
    "\n",
    "Example: 10% of cycleways have a width tag.\n",
    "\n",
    "Small Disclaimer: This is only a rough estimate because we don't look at all possible Subtag combinations. But from experience, this gives a good overview of the state of the data.\n",
    "\n",
    "If this interests you, you should also check out the Ohsome Examples Notebook [Ohsome Examples Notebook](example-ohsome)."
   ]
  },
  {
   "cell_type": "code",
   "execution_count": null,
   "metadata": {
    "tags": [
     "remove-cell"
    ]
   },
   "outputs": [],
   "source": [
    "import pandas as pd\n",
    "import osmnx as ox\n",
    "import networkx as nx\n",
    "\n",
    "from pathlib import Path\n",
    "import copy\n",
    "import sys\n",
    "import pyproj # we need this for jupyter-book to build right...\n",
    "\n",
    "from helpers import osmhelper as oh"
   ]
  },
  {
   "cell_type": "code",
   "execution_count": null,
   "metadata": {},
   "outputs": [],
   "source": [
    "useful_tags_way = ['bridge', 'tunnel', 'oneway', 'lanes', 'ref', 'name',\n",
    "                   'highway', 'maxspeed', 'service', 'access', 'area',\n",
    "                   'landuse', 'width', 'est_width', 'junction',\n",
    "                   'sidewalk', 'cycleway', 'bicycle', 'footway',\n",
    "                   'cyclestreet', 'path', 'foot',\n",
    "                   \"sidewalk:right\", \"sidewalk:left\", \"sidewalk:both\",\n",
    "                   \"cycleway:right\", \"cycleway:left\", \"cycleway:both\",\n",
    "                   \"width\", \"surface\", \"smoothness\",\n",
    "                   \"lanes:width\", \"lanes:surface\", \"lanes:smoothness\",\n",
    "                   \"maxwidth\", \"est_width\", \"lit\"]\n",
    "\n",
    "ox.settings.useful_tags_way += useful_tags_way"
   ]
  },
  {
   "cell_type": "code",
   "execution_count": null,
   "metadata": {},
   "outputs": [],
   "source": [
    "def filter_graph_by_dict(G, filter_dict, drop_nodes=False):\n",
    "    # Determine edges to keep based on filter criteria\n",
    "    def edge_to_keep(edge_data):\n",
    "        for key, value in filter_dict.items():\n",
    "            if key in edge_data:\n",
    "                # When value is None, any edge containing the key should be kept\n",
    "                if value is None:\n",
    "                    return True\n",
    "                # Handle case when edge attribute is a list\n",
    "                if isinstance(edge_data[key], list):\n",
    "                    if any(sub_key in value for sub_key in edge_data[key]):\n",
    "                        return True\n",
    "                # Handle case when edge attribute is a single value\n",
    "                elif edge_data[key] in value:\n",
    "                    return True\n",
    "        return False\n",
    "\n",
    "    # Filter edges\n",
    "    edges_to_remove = [(u, v, k) for u, v, k, d in G.edges(\n",
    "        keys=True, data=True) if not edge_to_keep(d)]\n",
    "    G.remove_edges_from(edges_to_remove)\n",
    "\n",
    "    # Optionally, remove nodes with no edges\n",
    "    if drop_nodes:\n",
    "        G.remove_nodes_from(\n",
    "            [node for node, degree in G.degree() if degree == 0])\n",
    "\n",
    "    return G"
   ]
  },
  {
   "cell_type": "code",
   "execution_count": null,
   "metadata": {},
   "outputs": [],
   "source": [
    "def generate_graph_path(placename, graph_path, simplify=True, file_identifier=\"\"):\n",
    "    \"\"\"\n",
    "    Generate the file path for a graph based on the given parameters.\n",
    "    \"\"\"\n",
    "    base_filename = f\"{placename}{'_' if file_identifier else ''}{\n",
    "        file_identifier}{'_complex' if not simplify else ''}.graphml\"\n",
    "    return Path(graph_path, base_filename)"
   ]
  },
  {
   "cell_type": "code",
   "execution_count": null,
   "metadata": {},
   "outputs": [],
   "source": [
    "def load_graph_from_path(file_graph, force_download=False):\n",
    "    \"\"\"\n",
    "    Load a graph from the specified path if the file exists and force_download is False,\n",
    "    using print statements for output instead of logging.\n",
    "\n",
    "    :param file_graph: The Path object pointing to the graph file.\n",
    "    :param force_download: Boolean indicating if the graph should be re-downloaded.\n",
    "    :return: The loaded graph, or None if the file does not exist.\n",
    "    \"\"\"\n",
    "    print(f\"Checking: {file_graph}\")\n",
    "\n",
    "    if file_graph.is_file() and not force_download:\n",
    "        print(f\"Loading from disk: {file_graph}\")\n",
    "        graph = ox.load_graphml(file_graph)  # Load graph\n",
    "        return graph\n",
    "    else:\n",
    "        print(f\"File not found or download forced: {file_graph}\")\n",
    "        return None"
   ]
  },
  {
   "cell_type": "code",
   "execution_count": null,
   "metadata": {},
   "outputs": [],
   "source": [
    "def is_area_reasonable(df):\n",
    "    \"\"\"\n",
    "    Checks if the area defined by a DataFrame's bounding box is within a reasonable size.\n",
    "\n",
    "    :param df: GeoDataFrame with bbox_north, bbox_east, bbox_south, bbox_west columns.\n",
    "    :return: Boolean indicating if the area is reasonable.\n",
    "    \"\"\"\n",
    "    diagonal = ox.distance.euclidean_dist_vec(\n",
    "        df.bbox_north[0], df.bbox_east[0], df.bbox_south[0], df.bbox_west[0])\n",
    "    return diagonal < 1  # You might want to adjust this threshold."
   ]
  },
  {
   "cell_type": "code",
   "execution_count": null,
   "metadata": {},
   "outputs": [],
   "source": [
    "def download_graph(placename, network_type, simplify, clean_periphery, retain_all, df):\n",
    "    \"\"\"\n",
    "    Attempts to download a graph from OpenStreetMap based on the provided parameters.\n",
    "\n",
    "    :param placename: Name of the place to download.\n",
    "    :param network_type: Type of network to download.\n",
    "    :param simplify: Whether to simplify the graph.\n",
    "    :param clean_periphery: Whether to clean the periphery of the graph.\n",
    "    :param retain_all: Whether to retain all nodes in the graph.\n",
    "    :param df: GeoDataFrame for the place.\n",
    "    :return: The downloaded graph or None if unsuccessful.\n",
    "    \"\"\"\n",
    "    try:\n",
    "        if is_area_reasonable(df):\n",
    "            graph = ox.graph_from_place(placename, network_type=network_type,\n",
    "                                        simplify=simplify, clean_periphery=clean_periphery,\n",
    "                                        retain_all=retain_all)\n",
    "            print(f\"Downloaded graph for {placename}\")\n",
    "        else:\n",
    "            print(\"Area too big.\")\n",
    "            return None\n",
    "    except Exception as e:\n",
    "        print(e)\n",
    "        print(f\"{placename} did not resolve as Polygon, trying BBox instead.\")\n",
    "        try:\n",
    "            north, south, east, west = df.bbox_north[0], df.bbox_south[0], df.bbox_east[0], df.bbox_west[0]\n",
    "            graph = ox.graph_from_bbox(north, south, east, west, network_type=network_type,\n",
    "                                       simplify=simplify, clean_periphery=clean_periphery,\n",
    "                                       retain_all=retain_all)\n",
    "            print(\"Downloaded graph for BBox successfully.\")\n",
    "        except Exception as e:\n",
    "            print(e)\n",
    "            return None\n",
    "    return graph"
   ]
  },
  {
   "cell_type": "code",
   "execution_count": null,
   "metadata": {},
   "outputs": [],
   "source": [
    "def get_place(placename, graph_paths=[\"osm\"], simplify=True, network_type=\"all_private\",\n",
    "              force_download=False, file_identifier=None, clean_periphery=True, retain_all=True, which_result=0):\n",
    "    # Convert place name to GeoDataFrame\n",
    "    df = ox.geocoder.geocode_to_gdf(placename, which_result=which_result)\n",
    "\n",
    "    # Generate path and attempt to load graph from disk\n",
    "    file_graph = generate_graph_path(\n",
    "        placename, graph_paths[0], simplify, file_identifier)\n",
    "    graph = load_graph_from_path(file_graph, force_download)\n",
    "\n",
    "    if graph is not None:\n",
    "        return graph\n",
    "\n",
    "    # Download graph if not found\n",
    "    graph = download_graph(placename, network_type,\n",
    "                           simplify, clean_periphery, retain_all, df)\n",
    "    if graph is not None:\n",
    "        ox.save_graphml(graph, file_graph)\n",
    "        print(f\"Graph saved to {file_graph}\")\n",
    "        return graph\n",
    "\n",
    "    return None"
   ]
  },
  {
   "cell_type": "code",
   "execution_count": null,
   "metadata": {},
   "outputs": [],
   "source": [
    "def count_tags(G, tag=\"width\"):\n",
    "    return sum(1 for _, _, _, d in G.edges(keys=True, data=True) if tag in d)"
   ]
  },
  {
   "cell_type": "code",
   "execution_count": null,
   "metadata": {},
   "outputs": [],
   "source": [
    "def stats_tag(G, tag=\"width\"):\n",
    "    total = len(G.edges())\n",
    "    count = count_tags(G, tag)\n",
    "    # Avoid division by zero\n",
    "    percent = (count / total) * 100 if total > 0 else 0\n",
    "    return count, total, round(percent, 2)"
   ]
  },
  {
   "cell_type": "code",
   "execution_count": null,
   "metadata": {},
   "outputs": [],
   "source": [
    "def tag_stats(G_nx, filter_names=[\"intercity\", \"local\", \"cycleway\", \"footway\", \"path\", \"sidewalk\", \"bicycle\"], tags=[\"name\", \"surface\", \"width\", \"smoothness\", \"maxwidth\", \"est_width\", \"maxspeed\", \"access\", \"lit\", \"bicycle\"]):\n",
    "    if G_nx is None:\n",
    "        return None\n",
    "\n",
    "    # Initialize DataFrame to store results\n",
    "    df = pd.DataFrame(columns=filter_names, index=tags)\n",
    "\n",
    "    for filter_name in filter_names:\n",
    "        # Assuming oh.get_filter_by_name returns a dict compatible with filter_graph_by_dict\n",
    "        filter_dict = oh.get_filter_by_name(filter_name)\n",
    "\n",
    "        # Make a copy of the graph for filtering\n",
    "        H_nx = copy.deepcopy(G_nx)\n",
    "\n",
    "        # Apply filtering\n",
    "        H_nx = filter_graph_by_dict(H_nx, filter_dict)\n",
    "\n",
    "        # Gather statistics for each tag\n",
    "        for tag in tags:\n",
    "            count, total, percent = stats_tag(H_nx, tag)\n",
    "            df.at[tag, filter_name] = percent\n",
    "\n",
    "    return df"
   ]
  },
  {
   "cell_type": "code",
   "execution_count": null,
   "metadata": {},
   "outputs": [],
   "source": [
    "def stats_for_place(latitude, longitude, distance):\n",
    "    G_nx = ox.graph_from_point((latitude, longitude),\n",
    "                               dist=distance, network_type='all')\n",
    "\n",
    "    # Print the graph summary\n",
    "    print(G_nx)\n",
    "\n",
    "    # Plot the graph\n",
    "    ox.plot_graph(G_nx)\n",
    "    stats = tag_stats(G_nx)\n",
    "    return stats"
   ]
  },
  {
   "cell_type": "markdown",
   "metadata": {},
   "source": [
    "## Dresden Schloss"
   ]
  },
  {
   "cell_type": "code",
   "execution_count": null,
   "metadata": {},
   "outputs": [],
   "source": [
    "# Dresden Schloss 51.05245523397302, 13.736736634153816\n",
    "latitude = 51.05245523397302\n",
    "longitude = 13.736736634153816\n",
    "distance = 1000\n",
    "\n",
    "\n",
    "G_nx = ox.graph_from_point((latitude, longitude),\n",
    "\n",
    "\n",
    "                           dist=distance, network_type='all')\n",
    "\n",
    "\n",
    "stats = stats_for_place(latitude, longitude, distance)\n",
    "print(stats)\n",
    "# stats.to_csv('results/{filename}.csv')"
   ]
  },
  {
   "cell_type": "markdown",
   "metadata": {},
   "source": [
    "## Berlin, Siegessäule"
   ]
  },
  {
   "cell_type": "code",
   "execution_count": null,
   "metadata": {},
   "outputs": [],
   "source": [
    "# Berlin, Siegessäule 52.51450061937166, 13.350077836872178\n",
    "latitude = 52.51450061937166\n",
    "longitude = 13.350077836872178\n",
    "distance = 1000\n",
    "\n",
    "G_nx = ox.graph_from_point((latitude, longitude),\n",
    "                           dist=distance, network_type='all')\n",
    "stats = stats_for_place(latitude, longitude, distance)\n",
    "print(stats)"
   ]
  },
  {
   "cell_type": "markdown",
   "metadata": {},
   "source": [
    "## Berlin, Karl-Marx-Platz (Neukölln)"
   ]
  },
  {
   "cell_type": "code",
   "execution_count": null,
   "metadata": {},
   "outputs": [],
   "source": [
    "# Berlin Karl-Marx-Platz 52.473669052264555, 13.44103486341092\n",
    "# The Group \"Verkehrswende Gruppe\" has mapped the area of NeuKölln very well\n",
    "latitude = 52.473669052264555\n",
    "longitude = 13.44103486341092\n",
    "distance = 1000\n",
    "\n",
    "G_nx = ox.graph_from_point((latitude, longitude),\n",
    "                           dist=distance, network_type='all')\n",
    "stats = stats_for_place(latitude, longitude, distance)\n",
    "print(stats)"
   ]
  },
  {
   "cell_type": "markdown",
   "metadata": {},
   "source": [
    "## Hamburg, Rathaus"
   ]
  },
  {
   "cell_type": "code",
   "execution_count": null,
   "metadata": {},
   "outputs": [],
   "source": [
    "# Hamburg Rathaus 53.550419301331544, 9.992272601103517\n",
    "latitude = 53.550419301331544\n",
    "longitude = 9.992272601103517\n",
    "distance = 1000\n",
    "\n",
    "G_nx = ox.graph_from_point((latitude, longitude),\n",
    "                           dist=distance, network_type='all')\n",
    "stats = stats_for_place(latitude, longitude, distance)\n",
    "print(stats)"
   ]
  },
  {
   "cell_type": "markdown",
   "metadata": {},
   "source": [
    "## München, Max-Joseph-Platz"
   ]
  },
  {
   "cell_type": "code",
   "execution_count": null,
   "metadata": {},
   "outputs": [],
   "source": [
    "# Max-Joseph-Platz, München 48.140007569741435, 11.57765210639961\n",
    "latitude = 48.140007569741435\n",
    "longitude = 11.57765210639961\n",
    "distance = 1000\n",
    "\n",
    "G_nx = ox.graph_from_point((latitude, longitude),\n",
    "                           dist=distance, network_type='all')\n",
    "stats = stats_for_place(latitude, longitude, distance)\n",
    "print(stats)"
   ]
  },
  {
   "cell_type": "markdown",
   "metadata": {},
   "source": [
    "## München, Lerchenauer See"
   ]
  },
  {
   "cell_type": "code",
   "execution_count": null,
   "metadata": {},
   "outputs": [],
   "source": [
    "# München, Lerchenauer See, 48.19984724772561, 11.535569565376347\n",
    "# In dem Stadtteil gibt hat eine Aktive Mappering für Ihre Abschlussarbeit den ganzen Stadtteil gemappt\n",
    "latitude = 48.19984724772561\n",
    "longitude = 11.535569565376347\n",
    "distance = 1000\n",
    "\n",
    "G_nx = ox.graph_from_point((latitude, longitude),\n",
    "                           dist=distance, network_type='all')\n",
    "stats = stats_for_place(latitude, longitude, distance)\n",
    "print(stats)"
   ]
  },
  {
   "cell_type": "markdown",
   "metadata": {},
   "source": [
    "## Model Regionen\n",
    "Schkeuditz, Köthen, Eisleben, Taucha"
   ]
  },
  {
   "cell_type": "markdown",
   "metadata": {},
   "source": [
    "## Schkeuditz"
   ]
  },
  {
   "cell_type": "code",
   "execution_count": null,
   "metadata": {},
   "outputs": [],
   "source": [
    "# Schkeuditz, 51.393711233983396, 12.220401148266053\n",
    "latitude = 51.393711233983396\n",
    "longitude = 12.220401148266053\n",
    "distance = 1000\n",
    "\n",
    "G_nx = ox.graph_from_point((latitude, longitude),\n",
    "                           dist=distance, network_type='all')\n",
    "stats = stats_for_place(latitude, longitude, distance)\n",
    "print(stats)"
   ]
  },
  {
   "cell_type": "markdown",
   "metadata": {},
   "source": [
    "## Köthen"
   ]
  },
  {
   "cell_type": "code",
   "execution_count": null,
   "metadata": {},
   "outputs": [],
   "source": [
    "# Köthen, Anhalt, 51.75122818820332, 11.973634212924361\n",
    "latitude = 51.75122818820332\n",
    "longitude = 11.973634212924361\n",
    "distance = 1000\n",
    "\n",
    "G_nx = ox.graph_from_point((latitude, longitude),\n",
    "                           dist=distance, network_type='all')\n",
    "stats = stats_for_place(latitude, longitude, distance)\n",
    "print(stats)"
   ]
  },
  {
   "cell_type": "markdown",
   "metadata": {},
   "source": [
    "## Eisleben"
   ]
  },
  {
   "cell_type": "code",
   "execution_count": null,
   "metadata": {},
   "outputs": [],
   "source": [
    "# Eisleben, 51.52790584132251, 11.547197528369814\n",
    "latitude = 51.52790584132251\n",
    "longitude = 11.547197528369814\n",
    "distance = 1000\n",
    "\n",
    "G_nx = ox.graph_from_point((latitude, longitude),\n",
    "                           dist=distance, network_type='all')\n",
    "stats = stats_for_place(latitude, longitude, distance)\n",
    "print(stats)"
   ]
  },
  {
   "cell_type": "markdown",
   "metadata": {},
   "source": [
    "## Taucha"
   ]
  },
  {
   "cell_type": "code",
   "execution_count": null,
   "metadata": {},
   "outputs": [],
   "source": [
    "# Taucha, 51.38024397088443, 12.492732676363739\n",
    "latitude = 51.38024397088443\n",
    "longitude = 12.492732676363739\n",
    "distance = 1000\n",
    "\n",
    "G_nx = ox.graph_from_point((latitude, longitude),\n",
    "                           dist=distance, network_type='all')\n",
    "stats = stats_for_place(latitude, longitude, distance)\n",
    "print(stats)"
   ]
  }
 ],
 "metadata": {
  "kernelspec": {
   "display_name": "geo",
   "language": "python",
   "name": "python3"
  },
  "language_info": {
   "codemirror_mode": {
    "name": "ipython",
    "version": 3
   },
   "file_extension": ".py",
   "mimetype": "text/x-python",
   "name": "python",
   "nbconvert_exporter": "python",
   "pygments_lexer": "ipython3",
   "version": "3.12.4"
  }
 },
 "nbformat": 4,
 "nbformat_minor": 2
}
