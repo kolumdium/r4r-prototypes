{
 "cells": [
  {
   "cell_type": "markdown",
   "metadata": {},
   "source": [
    "# Fetching Data for Cycling Quality Index\n",
    "This is a script to fetch the needed data with osmnx to calculate the Cycling Quality Index. "
   ]
  },
  {
   "cell_type": "code",
   "execution_count": null,
   "metadata": {},
   "outputs": [],
   "source": [
    "import osmnx as ox\n",
    "import pyproj # we need this for jupyter-book to build right\n",
    "from pathlib import Path\n",
    "import requests\n",
    "import geopandas as gpd\n",
    "from shapely.geometry import Point, LineString\n",
    "from pathlib import Path\n",
    "import json"
   ]
  },
  {
   "cell_type": "code",
   "execution_count": null,
   "metadata": {},
   "outputs": [],
   "source": [
    "from helpers import configreader as cfr\n",
    "from helpers import osmhelper as oh"
   ]
  },
  {
   "cell_type": "code",
   "execution_count": null,
   "metadata": {},
   "outputs": [],
   "source": [
    "# ox.settings.overpass_url = \"http://192.168.0.8:7890/api/\"\n",
    "ox.settings.overpass_rate_limit = False\n",
    "ox.settings.log_console = True\n",
    "ox.settings.useful_tags_way += [\n",
    "    'highway', 'name', 'oneway', 'oneway:bicycle', 'segregated', 'tracktype',\n",
    "    'is_sidepath', 'is_sidepath:of', 'priority_road', 'access', 'vehicle',\n",
    "    'motor_vehicle', 'bicycle', 'foot', 'bicycle_road', 'footway', 'path',\n",
    "    'bridleway', 'informal', 'maxspeed', 'lit', 'incline', 'surface', 'surface:bicycle',\n",
    "    'smoothness', 'smoothness:bicycle', 'lanes', 'width', 'width:carriageway',\n",
    "    'width:effective', 'width:lanes', 'width:lanes:forward', 'width:lanes:backward',\n",
    "    'lane_markings', 'separation', 'separation:both', 'separation:left', 'separation:right',\n",
    "    'buffer', 'buffer:both', 'buffer:left', 'buffer:right', 'traffic_mode:both',\n",
    "    'traffic_mode:left', 'traffic_mode:right', 'surface:colour', 'traffic_sign',\n",
    "    'parking:both', 'parking:left', 'parking:right', 'parking:both:orientation',\n",
    "    'parking:left:orientation', 'parking:right:orientation', 'parking:both:width',\n",
    "    'parking:left:width', 'parking:right:width', 'sidewalk:bicycle', 'sidewalk:both:bicycle',\n",
    "    'sidewalk:left:bicycle', 'sidewalk:right:bicycle', 'sidewalk:surface', 'sidewalk:both:surface',\n",
    "    'sidewalk:left:surface', 'sidewalk:right:surface', 'sidewalk:smoothness', 'sidewalk:both:smoothness',\n",
    "    'sidewalk:left:smoothness', 'sidewalk:right:smoothness', 'sidewalk:width', 'sidewalk:both:width',\n",
    "    'sidewalk:left:width', 'sidewalk:right:width', 'sidewalk:oneway', 'sidewalk:both:oneway',\n",
    "    'sidewalk:left:oneway', 'sidewalk:right:oneway', 'sidewalk:oneway:bicycle',\n",
    "    'sidewalk:both:oneway:bicycle', 'sidewalk:left:oneway:bicycle', 'sidewalk:right:oneway:bicycle',\n",
    "    'sidewalk:traffic_sign', 'sidewalk:both:traffic_sign', 'sidewalk:left:traffic_sign',\n",
    "    'sidewalk:right:traffic_sign', 'footway:width', 'cycleway', 'cycleway:both', 'cycleway:left',\n",
    "    'cycleway:right', 'cycleway:lane', 'cycleway:both:lane', 'cycleway:left:lane', 'cycleway:right:lane',\n",
    "    'cycleway:surface', 'cycleway:both:surface', 'cycleway:left:surface', 'cycleway:right:surface',\n",
    "    'cycleway:smoothness', 'cycleway:both:smoothness', 'cycleway:left:smoothness',\n",
    "    'cycleway:right:smoothness', 'cycleway:width', 'cycleway:both:width', 'cycleway:left:width',\n",
    "    'cycleway:right:width', 'cycleway:oneway', 'cycleway:both:oneway', 'cycleway:left:oneway',\n",
    "    'cycleway:right:oneway', 'cycleway:oneway:bicycle', 'cycleway:both:oneway:bicycle',\n",
    "    'cycleway:left:oneway:bicycle', 'cycleway:right:oneway:bicycle', 'cycleway:segregated',\n",
    "    'cycleway:both:segregated', 'cycleway:left:segregated', 'cycleway:right:segregated', 'cycleway:foot',\n",
    "    'cycleway:both:foot', 'cycleway:left:foot', 'cycleway:right:foot', 'cycleway:separation',\n",
    "    'cycleway:separation:left', 'cycleway:separation:right', 'cycleway:separation:both',\n",
    "    'cycleway:both:separation', 'cycleway:both:separation:left', 'cycleway:both:separation:right',\n",
    "    'cycleway:both:separation:both', 'cycleway:right:separation', 'cycleway:right:separation:left',\n",
    "    'cycleway:right:separation:right', 'cycleway:right:separation:both', 'cycleway:left:separation',\n",
    "    'cycleway:left:separation:left', 'cycleway:left:separation:right', 'cycleway:left:separation:both',\n",
    "    'cycleway:buffer', 'cycleway:buffer:left', 'cycleway:buffer:right', 'cycleway:buffer:both',\n",
    "    'cycleway:both:buffer', 'cycleway:both:buffer:left', 'cycleway:both:buffer:right',\n",
    "    'cycleway:both:buffer:both', 'cycleway:right:buffer', 'cycleway:right:buffer:left',\n",
    "    'cycleway:right:buffer:right', 'cycleway:right:buffer:both', 'cycleway:left:buffer',\n",
    "    'cycleway:left:buffer:left', 'cycleway:left:buffer:right', 'cycleway:left:buffer:both',\n",
    "    'cycleway:traffic_mode:left', 'cycleway:traffic_mode:right', 'cycleway:traffic_mode:both',\n",
    "    'cycleway:both:traffic_mode:left', 'cycleway:both:traffic_mode:right', 'cycleway:both:traffic_mode:both',\n",
    "    'cycleway:left:traffic_mode:left', 'cycleway:left:traffic_mode:right', 'cycleway:left:traffic_mode:both',\n",
    "    'cycleway:right:traffic_mode:left', 'cycleway:right:traffic_mode:right', 'cycleway:right:traffic_mode:both',\n",
    "    'cycleway:surface:colour', 'cycleway:both:surface:colour', 'cycleway:right:surface:colour',\n",
    "    'cycleway:left:surface:colour', 'cycleway:traffic_sign', 'cycleway:both:traffic_sign',\n",
    "    'cycleway:left:traffic_sign', 'cycleway:right:traffic_sign', 'cycleway:lanes', 'cycleway:lanes:forward',\n",
    "    'cycleway:lanes:backward', 'vehicle:lanes', 'bus:lanes', 'psv:lanes', 'crossing', 'crossing:markings', 'service', 'cycleway', 'sidewalk', 'parking'\n",
    "]"
   ]
  },
  {
   "cell_type": "code",
   "execution_count": null,
   "metadata": {},
   "outputs": [],
   "source": [
    "def test_overpass_api(url):\n",
    "    try:\n",
    "        response = requests.get(url)\n",
    "        response.raise_for_status()  # Raise an error for HTTP codes 4xx/5xx\n",
    "        try:\n",
    "            data = response.json()  # Try to parse JSON\n",
    "            print(\"API response is valid JSON.\")\n",
    "            return data\n",
    "        except ValueError:\n",
    "            print(\"Response content is not valid JSON.\")\n",
    "            print(\"Response content:\", response.text)\n",
    "    except requests.exceptions.HTTPError as http_err:\n",
    "        print(f\"HTTP error occurred: {http_err}\")  # e.g., 403 Forbidden\n",
    "    except Exception as err:\n",
    "        print(f\"Other error occurred: {err}\")\n",
    "\n",
    "\n",
    "# Test the Overpass API URL\n",
    "test_overpass_api(\n",
    "    \"http://192.168.0.8:7890/api/interpreter?data=%5Bout:json%5D;node(1966391124);out;\")"
   ]
  },
  {
   "cell_type": "code",
   "execution_count": null,
   "metadata": {},
   "outputs": [],
   "source": [
    "# Define the bounding box coordinates\n",
    "# north, south, east, west = 52.5009195009107046, 52.4543246009110788, 13.4859782, 13.3924347464750326\n",
    "place = 'Magdeburg, Germany'\n",
    "# # Use osmnx to get the graph\n",
    "# try:\n",
    "#     G = ox.graph_from_bbox((north, south, east, west), network_type='all')\n",
    "#     # Plot the graph\n",
    "#     ox.plot_graph(G)\n",
    "# except Exception as e:\n",
    "#     print(f\"Error: {e}\")\n",
    "#     raise e"
   ]
  },
  {
   "cell_type": "code",
   "execution_count": null,
   "metadata": {},
   "outputs": [],
   "source": [
    "# # Define the custom filters for the query\n",
    "# custom_filter = (\n",
    "#     '[\"highway\"~\"cycleway|path|footway|bridleway|steps|motorway|motorway_link|trunk|trunk_link|primary|'\n",
    "#     'primary_link|secondary|secondary_link|tertiary|tertiary_link|unclassified|residential|living_street|'\n",
    "#     'pedestrian|road|service|track\"]'\n",
    "#     # '[\"bicycle\"!~\"no|dismount\"]'\n",
    "#     # '[\"service\"!~\"\"]'\n",
    "#     # '[\"service\"~\"alley|yes|designated|permissive\"]'\n",
    "# )\n",
    "\n",
    "# # Fetch the data\n",
    "# G = ox.graph_from_bbox((north, south, east, west),\n",
    "#                        custom_filter=custom_filter, network_type='all')\n",
    "\n",
    "# # Plot the graph\n",
    "# ox.plot_graph(ox.project_graph(G))"
   ]
  },
  {
   "cell_type": "code",
   "execution_count": null,
   "metadata": {},
   "outputs": [],
   "source": [
    "G = ox.graph_from_place(place, network_type='all',\n",
    "                        simplify=True, truncate_by_edge=True)\n",
    "\n",
    "\n",
    "\n",
    "nodes, edges = ox.graph_to_gdfs(G, nodes=True, edges=True)\n",
    "\n",
    "\n",
    "\n",
    "edges = edges.dropna(axis=1, how='all')\n",
    "\n",
    "\n",
    "\n",
    "# edges.head(2)"
   ]
  },
  {
   "cell_type": "code",
   "execution_count": null,
   "metadata": {},
   "outputs": [],
   "source": [
    "ox.plot_graph(G)"
   ]
  },
  {
   "cell_type": "code",
   "execution_count": null,
   "metadata": {},
   "outputs": [],
   "source": [
    "# Convert edges to GeoDataFrame with geometry as LineString\n",
    "def make_linestring(row):\n",
    "    try:\n",
    "        return LineString([nodes.loc[row['u'], 'geometry'], nodes.loc[row['v'], 'geometry']])\n",
    "    except KeyError:\n",
    "        return None"
   ]
  },
  {
   "cell_type": "code",
   "execution_count": null,
   "metadata": {},
   "outputs": [],
   "source": [
    "nodes['geometry'] = nodes.apply(lambda row: Point(row['x'], row['y']), axis=1)\n",
    "# Ensure 'u' and 'v' columns are accessible\n",
    "edges.reset_index(inplace=True)\n",
    "edges['geometry'] = edges.apply(make_linestring, axis=1)\n",
    "edges = edges.dropna(subset=['geometry'])"
   ]
  },
  {
   "cell_type": "code",
   "execution_count": null,
   "metadata": {},
   "outputs": [],
   "source": [
    "# Convert list-type columns to strings or remove them\n",
    "for column in edges.columns:\n",
    "    if edges[column].dtype == object and any(isinstance(val, list) for val in edges[column]):\n",
    "        edges[column] = edges[column].apply(lambda x: ', '.join(\n",
    "            map(str, x)) if isinstance(x, list) else x)"
   ]
  },
  {
   "cell_type": "code",
   "execution_count": null,
   "metadata": {},
   "outputs": [],
   "source": [
    "# save_path = Path(\"out\", place + \".geojson\")\n",
    "# with open(save_path, \"w\") as f:\n",
    "#     f.write(edges.to_json(na=\"drop\"))"
   ]
  }
 ],
 "metadata": {
  "kernelspec": {
   "display_name": "osmnx",
   "language": "python",
   "name": "python3"
  },
  "language_info": {
   "codemirror_mode": {
    "name": "ipython",
    "version": 3
   },
   "file_extension": ".py",
   "mimetype": "text/x-python",
   "name": "python",
   "nbconvert_exporter": "python",
   "pygments_lexer": "ipython3",
   "version": "3.12.1"
  }
 },
 "nbformat": 4,
 "nbformat_minor": 2
}
