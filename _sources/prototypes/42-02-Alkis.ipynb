{
 "cells": [
  {
   "cell_type": "markdown",
   "metadata": {},
   "source": [
    "# Alkis Test"
   ]
  },
  {
   "cell_type": "code",
   "execution_count": null,
   "metadata": {},
   "outputs": [],
   "source": [
    "import geopandas as gpd\n",
    "import pyproj # we need this for jupyter-book to build right\n",
    "import zipfile\n",
    "import folium"
   ]
  },
  {
   "cell_type": "code",
   "execution_count": null,
   "metadata": {},
   "outputs": [],
   "source": [
    "# Specify the path to the zipped shapefile\n",
    "# zip_path = r'C:\\Users\\plank\\Documents\\git\\r4r-prototypes\\prototypes\\in\\alkiswfs-request-obg-1710239261403.zip'\n",
    "\n",
    "# # Extract the shapefile from the zip file\n",
    "# with zipfile.ZipFile(zip_path, 'r') as zip_ref:\n",
    "#     zip_ref.extractall('temp_folder')"
   ]
  },
  {
   "cell_type": "code",
   "execution_count": null,
   "metadata": {},
   "outputs": [],
   "source": [
    "# Read the shapefile using geopandas\n",
    "# shapefile_path = r'C:\\Users\\plank\\Documents\\git\\r4r-prototypes\\prototypes\\in\\shape_files_freiberg\\ALKIS-Vereinfacht\\Flurstueck.shp'\n",
    "# shapefile_path = r'C:\\Users\\plank\\Documents\\git\\r4r-prototypes\\prototypes\\in\\shape_files_freiberg\\ALKIS-Vereinfacht\\Nutzung.shp'\n",
    "# shapefile_path = r'C:\\Users\\plank\\Documents\\git\\r4r-prototypes\\prototypes\\in\\shape_files_freiberg\\ALKIS-Vereinfacht\\FlurstueckPunkt.shp'\n",
    "shapefile_path = r'C:\\Users\\plank\\Documents\\git\\r4r-prototypes\\prototypes\\in\\Alkis-Dresden\\NutzungFlurstueck.shp'\n",
    "# shapefile_path = r'C:\\Users\\plank\\Documents\\git\\r4r-prototypes\\prototypes\\in\\Alkis-Dresden\\Nutzung.shp'\n",
    "gdf = gpd.read_file(shapefile_path)\n",
    "\n",
    "# Display the contents of the shapefile\n",
    "# print(gdf.head(20))\n",
    "gdf_summary = gdf.describe()\n",
    "print(gdf_summary)"
   ]
  },
  {
   "cell_type": "code",
   "execution_count": null,
   "metadata": {},
   "outputs": [],
   "source": [
    "\n",
    "# Create a folium map object\n",
    "m = folium.Map(zoom_start=10)\n",
    "\n",
    "# Add the shapefile to the map\n",
    "folium.GeoJson(gdf).add_to(m)\n",
    "\n",
    "# Display the map\n",
    "m"
   ]
  },
  {
   "cell_type": "markdown",
   "metadata": {},
   "source": [
    "| Nutzart                                | Count |\n",
    "|----------------------------------------|-------|\n",
    "| Wohnbaufläche                          | 806   |\n",
    "| Landwirtschaft                         | 626   |\n",
    "| Straßenverkehr                         | 306   |\n",
    "| Industrie- und Gewerbefläche           | 244   |\n",
    "| Weg                                    | 235   |\n",
    "| Unland/Vegetationslose Fläche          | 188   |\n",
    "| Sport-, Freizeit- und Erholungsfläche  | 153   |\n",
    "| Wald                                   | 100   |\n",
    "| Platz                                  | 95    |\n",
    "| Fläche besonderer funktionaler Prägung | 86    |\n",
    "| Fließgewässer                          | 48    |\n",
    "| Stehendes Gewässer                     | 16    |\n",
    "| Gehölz                                 | 11    |\n",
    "| Halde                                  | 9     |\n",
    "| Bahnverkehr                            | 9     |\n",
    "| Fläche gemischter Nutzung              | 7     |\n",
    "| Tagebau, Grube, Steinbruch             | 3     |\n",
    "| Friedhof                               | 2     |\n"
   ]
  },
  {
   "cell_type": "markdown",
   "metadata": {},
   "source": [
    "Alkis kann nicht genutzt werden um Wege zu finden. Da nur wenige Flurstücke als echte Wege eingetragen sind. Außerdem sind die Flurstücke oft größer als ein Gehweg."
   ]
  },
  {
   "cell_type": "code",
   "execution_count": null,
   "metadata": {},
   "outputs": [],
   "source": [
    "# filtered_gdf = gdf[gdf['nutzart'].isin(['Straßenverkehr', 'Weg'])]\n",
    "filtered_gdf = gdf[gdf['nutzart'].isin(['Weg'])]"
   ]
  },
  {
   "cell_type": "code",
   "execution_count": null,
   "metadata": {},
   "outputs": [],
   "source": [
    "# Create a new folium map object\n",
    "new_map = folium.Map(zoom_start=15)\n",
    "\n",
    "# Add the filtered_gdf to the map\n",
    "folium.GeoJson(filtered_gdf).add_to(new_map)\n",
    "\n",
    "# Display the new map\n",
    "new_map"
   ]
  },
  {
   "cell_type": "code",
   "execution_count": null,
   "metadata": {},
   "outputs": [],
   "source": []
  }
 ],
 "metadata": {
  "kernelspec": {
   "display_name": "geo",
   "language": "python",
   "name": "python3"
  },
  "language_info": {
   "codemirror_mode": {
    "name": "ipython",
    "version": 3
   },
   "file_extension": ".py",
   "mimetype": "text/x-python",
   "name": "python",
   "nbconvert_exporter": "python",
   "pygments_lexer": "ipython3",
   "version": "3.12.4"
  }
 },
 "nbformat": 4,
 "nbformat_minor": 2
}
