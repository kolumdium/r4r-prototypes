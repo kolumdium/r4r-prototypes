{
 "cells": [
  {
   "cell_type": "markdown",
   "metadata": {},
   "source": [
    "# Tagfilter am Beispiel von Freiberg, Sachsen\n",
    "\n",
    "In diesem Notebook wird gezeigt, wie der Stadtgraph zerklüftet, wenn er nach bestimmten Tags gefiltert wird.\n",
    "\n",
    "Um einen Zusammenhängenden Graphen zu erhalten müssen die fehlenden Daten ergänzt werden.\n",
    "\n",
    "Mehr Informationen zu den Beschreibungen der Szenarien finden Sie hier. [Beschreibung Szenarien](beschreibung-szenarien)"
   ]
  },
  {
   "cell_type": "code",
   "execution_count": null,
   "metadata": {
    "tags": [
     "remove-cell"
    ]
   },
   "outputs": [],
   "source": [
    "import osmnx as ox\n",
    "from configobj import ConfigObj\n",
    "import pyproj # we need this for jupyter-book to build right...\n",
    "from pathlib import Path\n",
    "from helpers import configreader as cfr\n",
    "from helpers import osmhelper as oh\n",
    "from helpers import ready4robots as r4r"
   ]
  },
  {
   "cell_type": "code",
   "execution_count": null,
   "metadata": {
    "tags": [
     "remove-cell"
    ]
   },
   "outputs": [],
   "source": [
    "import warnings\n",
    "warnings.filterwarnings('ignore')"
   ]
  },
  {
   "cell_type": "code",
   "execution_count": null,
   "metadata": {},
   "outputs": [],
   "source": [
    "cfg = ConfigObj(r\"notebook.ini\")"
   ]
  },
  {
   "cell_type": "code",
   "execution_count": null,
   "metadata": {},
   "outputs": [],
   "source": [
    "def analyse_scenario(city, cfg, scenario, override=False, with_speed=True, folder=None):\n",
    "\n",
    "    simplify = cfr.get_simplify(cfg)\n",
    "\n",
    "    # load city\n",
    "    G_nx = oh.get_place(placename=city, simplify=simplify, graph_paths=[\"osm\"],\n",
    "                        clean_periphery=True,\n",
    "                        file_identifier=\"\", retain_all=True)\n",
    "\n",
    "    # filter_graph by scenario\n",
    "    filter_scenario = r4r.get_scenario_filter(cfg, scenario[\"name\"])\n",
    "\n",
    "    H_nx = G_nx.copy()\n",
    "    H_nx = oh.filter_graph_by_dict(H_nx, filter_scenario, drop_nodes=False)\n",
    "\n",
    "    return H_nx"
   ]
  },
  {
   "cell_type": "code",
   "execution_count": null,
   "metadata": {},
   "outputs": [],
   "source": [
    "scenarios = cfr.get_scenarios(cfg)\n",
    "graphs = []\n",
    "cities = cfr.get_cities(cfg)\n",
    "city = cities[0]\n",
    "for scenario in scenarios:\n",
    "    # print(scenario.name)\n",
    "    graph = analyse_scenario(city, cfg, scenario, override=True)\n",
    "    graphs.append(graph)"
   ]
  },
  {
   "cell_type": "code",
   "execution_count": null,
   "metadata": {},
   "outputs": [],
   "source": [
    "for graph, scenario in zip(graphs, scenarios):\n",
    "    print(scenario[\"name\"])\n",
    "    x = ox.plot_graph(graph, figsize=(12, 12), node_size=0)"
   ]
  },
  {
   "cell_type": "code",
   "execution_count": null,
   "metadata": {},
   "outputs": [],
   "source": [
    "G_nx = oh.get_place(placename=city, simplify=True, graph_paths=[Path(\"..\", \"osm\").resolve()],\n",
    "                    clean_periphery=True,\n",
    "                    file_identifier=\"\", retain_all=True, ox_cache=Path(\"..\", \"cache\").resolve())\n",
    "\n",
    "stats = oh.tag_stats(G_nx)\n",
    "\n",
    "stats"
   ]
  },
  {
   "cell_type": "code",
   "execution_count": null,
   "metadata": {},
   "outputs": [],
   "source": [
    "ox.plot_graph_folium(graph)"
   ]
  },
  {
   "cell_type": "code",
   "execution_count": null,
   "metadata": {},
   "outputs": [],
   "source": [
    "nodes, edges = ox.graph_to_gdfs(graph)\n",
    "nodes.explore()"
   ]
  },
  {
   "cell_type": "code",
   "execution_count": null,
   "metadata": {},
   "outputs": [],
   "source": [
    "edges.explore()"
   ]
  }
 ],
 "metadata": {
  "kernelspec": {
   "display_name": "Python 3.9.7 ('paper')",
   "language": "python",
   "name": "python3"
  },
  "language_info": {
   "codemirror_mode": {
    "name": "ipython",
    "version": 3
   },
   "file_extension": ".py",
   "mimetype": "text/x-python",
   "name": "python",
   "nbconvert_exporter": "python",
   "pygments_lexer": "ipython3",
   "version": "3.12.4"
  },
  "vscode": {
   "interpreter": {
    "hash": "6d02badfd54b2ef629bd89f6477a556d3409a57b8a67d32f7da792a265bb9c05"
   }
  }
 },
 "nbformat": 4,
 "nbformat_minor": 2
}
