{
 "cells": [
  {
   "cell_type": "markdown",
   "metadata": {},
   "source": [
    "# ÖPNV Schkeuditz\n",
    "fetched the data with this overpass query:\n",
    "[https://overpass-turbo.eu/s/1P2i](https://overpass-turbo.eu/s/1P2i)\n",
    "```json overpass\n",
    "[out:json][timeout:25];\n",
    "// gather results\n",
    "(\n",
    "  nwr[\"route\"=\"bus\"][\"network\"!=\"Flixbus\"][\"network\"!=\"Eurolines\"]({{bbox}});\n",
    "  nwr[\"railway\"=\"station\"]({{bbox}});\n",
    "  nwr[\"railway\"=\"rail\"]({{bbox}});\n",
    "  nwr[\"railway\"=\"tram\"]({{bbox}});\n",
    "  nwr[\"railway\"=\"platform\"]({{bbox}});\n",
    ");\n",
    "// print results\n",
    "out geom;\n",
    "```"
   ]
  },
  {
   "cell_type": "code",
   "execution_count": null,
   "metadata": {},
   "outputs": [],
   "source": [
    "import pandas as pd\n",
    "import numpy as np\n",
    "import folium\n",
    "import osmnx as ox\n",
    "import pyproj # we need this for jupyter-book to build right\n",
    "import geopandas as gpd"
   ]
  },
  {
   "cell_type": "code",
   "execution_count": null,
   "metadata": {},
   "outputs": [],
   "source": [
    "# Autonomer Bus\n",
    "# Hayna, Biedermeierstrand 6570009526\n",
    "# Rackwitz, Schladitzer Bucht 10801206725\n",
    "# Neuschladitz 262240958\n",
    "# Rackwitz, Leipziger Straße/Hauptstraße 294771252\n",
    "# Rackwitz, Busbahnhof 2674713925"
   ]
  },
  {
   "cell_type": "code",
   "execution_count": null,
   "metadata": {},
   "outputs": [],
   "source": [
    "# Read the GeoJSON file\n",
    "gdf = gpd.read_file(\n",
    "    r'C:\\Users\\plank\\Documents\\git\\r4r-prototypes\\prototypes\\in\\a\\001.geojson')\n",
    "\n",
    "gdf.head()"
   ]
  },
  {
   "cell_type": "code",
   "execution_count": null,
   "metadata": {},
   "outputs": [],
   "source": [
    "for entry in gdf.columns:\n",
    "    print(entry)"
   ]
  },
  {
   "cell_type": "code",
   "execution_count": null,
   "metadata": {},
   "outputs": [],
   "source": [
    "# Create a map\n",
    "m = folium.Map(location=[gdf.centroid.y.mean(),\n",
    "               gdf.centroid.x.mean()], zoom_start=12, tiles=\"cartodbpositron\")"
   ]
  },
  {
   "cell_type": "code",
   "execution_count": null,
   "metadata": {},
   "outputs": [],
   "source": [
    "def get_coordinates_from_geometry(geometry):\n",
    "    coordinates = list(geometry.coords)\n",
    "    return [(lon, lat) for lat, lon in coordinates]"
   ]
  },
  {
   "cell_type": "code",
   "execution_count": null,
   "metadata": {},
   "outputs": [],
   "source": [
    "def plot_geometry(m, row, color):\n",
    "    geometry = row.geometry\n",
    "    if geometry.geom_type == 'MultiLineString':\n",
    "        for part in geometry.geoms:\n",
    "            coordinates = get_coordinates_from_geometry(part)\n",
    "            polyline = folium.PolyLine(\n",
    "                locations=coordinates, color=color)\n",
    "            # Add the polyline to the map\n",
    "            polyline.add_to(m)\n",
    "    elif geometry.geom_type == 'Polygon':\n",
    "        coordinates = get_coordinates_from_geometry(geometry.exterior)\n",
    "        polygon = folium.Polygon(\n",
    "            locations=coordinates, color=color, fill=True, fill_color=color, fill_opacity=0.4)\n",
    "        # Add the polygon to the map\n",
    "        polygon.add_to(m)\n",
    "    elif geometry.geom_type == 'LineString':\n",
    "        coordinates = get_coordinates_from_geometry(geometry)\n",
    "        polyline = folium.PolyLine(\n",
    "            locations=coordinates, color=color)\n",
    "        polyline.add_to(m)\n",
    "    elif geometry.geom_type == 'Point':\n",
    "        coordinates = get_coordinates_from_geometry(geometry)\n",
    "        # print(coordinates)\n",
    "        # marker = folium.Marker(location=coordinates[0], color=color)\n",
    "        marker = folium.CircleMarker(location=coordinates[0], color=color)\n",
    "        marker.add_to(m)\n",
    "\n",
    "    else:\n",
    "        print(geometry.geom_type)\n",
    "        coordinates = get_coordinates_from_geometry(geometry)\n",
    "        polyline = folium.PolyLine(\n",
    "            locations=coordinates, color=color)\n",
    "        polyline.add_to(m)"
   ]
  },
  {
   "cell_type": "code",
   "execution_count": null,
   "metadata": {},
   "outputs": [],
   "source": [
    "# make layer\n",
    "layer_bus = folium.FeatureGroup(name='Bus')\n",
    "layer_flash = folium.FeatureGroup(name='Flash')\n",
    "# layer_tram = folium.FeatureGroup(name='Tram')\n",
    "layer_train = folium.FeatureGroup(name='Train')\n",
    "layer_airport = folium.FeatureGroup(name='Airport')\n",
    "layer_bike = folium.FeatureGroup(name='Bike')\n",
    "\n",
    "m.add_child(layer_bus)\n",
    "m.add_child(layer_flash)\n",
    "# m.add_child(layer_tram)\n",
    "m.add_child(layer_train)\n",
    "m.add_child(layer_airport)\n",
    "m.add_child(layer_bike)\n",
    "\n",
    "m.add_child(folium.LayerControl())"
   ]
  },
  {
   "cell_type": "code",
   "execution_count": null,
   "metadata": {
    "tags": [
     "scroll-output"
    ]
   },
   "outputs": [],
   "source": [
    "color = \"black\"\n",
    "for row in gdf.itertuples():\n",
    "    # Create a string for popup\n",
    "    if row.route == \"bus\":\n",
    "        if row.id == \"relation/15706522\":  # Das ist Flash https://www.openstreetmap.org/relation/15706522#map=15/51.4358/12.3750\n",
    "            color = \"orange\"\n",
    "            plot_geometry(layer_flash, row, color)\n",
    "            continue\n",
    "        color = \"blue\"\n",
    "        plot_geometry(layer_bus, row, color)\n",
    "    elif row.railway is not None:\n",
    "        if row.railway in [\"signal\", \"switch\", \"buffer_stop\", \"crossing\", \"tram_level_crossing\", \"level_crossing\"]:\n",
    "            continue\n",
    "        elif row.railway in [\"station\", \"rail\", \"tram\", \"platform\"]:\n",
    "            color = \"red\"\n",
    "            plot_geometry(layer_train, row, color)\n",
    "    else:\n",
    "        x = eval(row._158)[0]\n",
    "        # print(x)\n",
    "        # for entry in x:\n",
    "        #     print(entry)\n",
    "        if x.get(\"role\") in [\"stop\", \"platform\"]:\n",
    "            if x.get(\"reltags\").get(\"route\") == \"bus\":\n",
    "                color = \"blue\"\n",
    "                layer = layer_bus\n",
    "            else:\n",
    "                print(x.get(\"reltags\").get(\"route\"))\n",
    "                color = \"red\"\n",
    "                layer = layer_train\n",
    "            plot_geometry(layer, row, color)"
   ]
  },
  {
   "cell_type": "code",
   "execution_count": null,
   "metadata": {},
   "outputs": [],
   "source": [
    "# Flughafen\n",
    "way_id = 435715317\n",
    "boundary = ox.geocode_to_gdf(\"W435715317\", by_osmid=True)\n",
    "boundary.exterior[0].coords"
   ]
  },
  {
   "cell_type": "code",
   "execution_count": null,
   "metadata": {},
   "outputs": [],
   "source": [
    "coordinates = list(boundary.exterior[0].coords)\n",
    "reversed_coordinates = [(lon, lat) for lat, lon in coordinates]\n",
    "polygon = folium.Polygon(\n",
    "    locations=reversed_coordinates, color=\"green\", fill=True, fill_color=\"green\", fill_opacity=0.1)\n",
    "# Add the polygon to the map\n",
    "polygon.add_to(layer_airport)"
   ]
  },
  {
   "cell_type": "code",
   "execution_count": null,
   "metadata": {},
   "outputs": [],
   "source": [
    "m"
   ]
  },
  {
   "cell_type": "code",
   "execution_count": null,
   "metadata": {},
   "outputs": [],
   "source": [
    "m.save(\"out/Schkeuditz-Europa.html\")"
   ]
  }
 ],
 "metadata": {
  "kernelspec": {
   "display_name": "geo",
   "language": "python",
   "name": "python3"
  },
  "language_info": {
   "codemirror_mode": {
    "name": "ipython",
    "version": 3
   },
   "file_extension": ".py",
   "mimetype": "text/x-python",
   "name": "python",
   "nbconvert_exporter": "python",
   "pygments_lexer": "ipython3",
   "version": "3.12.1"
  }
 },
 "nbformat": 4,
 "nbformat_minor": 2
}
