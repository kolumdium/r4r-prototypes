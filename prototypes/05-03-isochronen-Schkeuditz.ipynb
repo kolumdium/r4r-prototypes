{
 "cells": [
  {
   "cell_type": "markdown",
   "metadata": {},
   "source": [
    "# Isochronen in Schkeuditz\n",
    "\n",
    "Für die Erklärung bitte [hier gucken:](beispiel-dominos-freiberg)\n",
    "\n",
    "\n",
    "## Scenario Beschreibungen:\n",
    "- Für eine Detailierte Beschreibung bitte in [beschreibung-szenarien](beschreibung-szenarien) gucken.\n",
    "- tl;dr:\n",
    "    - Small (Rot): Nur Gehwege und Fußgängerzonen sind erlaubt.\n",
    "    - Medium (Blau): Geh- und Radwege sind erlaubt.\n",
    "    - Optimal (Grün): Vergleichsszenario, alles ist erlaubt.\n"
   ]
  },
  {
   "cell_type": "code",
   "execution_count": null,
   "metadata": {
    "tags": [
     "remove-cell"
    ]
   },
   "outputs": [],
   "source": [
    "import folium\n",
    "import geopandas as gpd\n",
    "import matplotlib.pyplot as plt\n",
    "import networkx as nx\n",
    "import numpy as np\n",
    "import osmnx as ox\n",
    "import pyproj # we need this for jupyter-book to build right\n",
    "from configobj import ConfigObj\n",
    "from descartes import PolygonPatch\n",
    "from pathlib import Path\n",
    "from helpers import configreader as cfr\n",
    "from helpers import osmhelper as oh\n",
    "from helpers import ready4robots as r4r\n",
    "from numpy import asarray, concatenate, ones\n",
    "from pyproj import Proj, transform\n",
    "from shapely.geometry import LineString, MultiPolygon, Point, Polygon\n",
    "from shapely.geometry import mapping\n",
    "import copy\n",
    "from pathlib import Path"
   ]
  },
  {
   "cell_type": "code",
   "execution_count": null,
   "metadata": {
    "tags": [
     "remove-cell"
    ]
   },
   "outputs": [],
   "source": [
    "import warnings\n",
    "warnings.filterwarnings('ignore')"
   ]
  },
  {
   "cell_type": "code",
   "execution_count": null,
   "metadata": {
    "tags": [
     "remove-cell"
    ]
   },
   "outputs": [],
   "source": [
    "cfg = ConfigObj(\"notebook.ini\")\n",
    "# place = \"Freiberg, Sachsen\"\n",
    "trip_times = [5, 10, 15, 20, 25, 30]  # in minutes\n",
    "travel_speed = 3.6  # in km/h\n",
    "\n",
    "useful_tags_way = ['bridge', 'tunnel', 'oneway', 'lanes', 'ref', 'name',\n",
    "                   'highway', 'maxspeed', 'service', 'access', 'area',\n",
    "                   'landuse', 'width', 'est_width', 'junction',\n",
    "                   'sidewalk', 'cycleway', 'bicycle', 'footway',\n",
    "                   'cyclestreet', 'path', 'foot',\n",
    "                   \"sidewalk:right\", \"sidewalk:left\", \"sidewalk:both\",\n",
    "                   \"cycleway:right\", \"cycleway:left\", \"cycleway:both\",\n",
    "                   \"width\", \"surface\", \"smoothness\",\n",
    "                   \"lanes:width\", \"lanes:surface\", \"lanes:smoothness\",\n",
    "                   \"max_width\", \"est_width\"]\n",
    "\n",
    "ox.config(useful_tags_way=useful_tags_way)\n",
    "ox.__version__"
   ]
  },
  {
   "cell_type": "code",
   "execution_count": null,
   "metadata": {
    "tags": [
     "remove-cell"
    ]
   },
   "outputs": [],
   "source": [
    "# download the street network\n",
    "# G_84 = r4r.get_graph(place)\n",
    "\n",
    "# Dresden, Rathaus\n",
    "# latitude = 51.047993772661066\n",
    "# longitude = 13.74043214154367\n",
    "# name = 'Dresden-Rathaus'\n",
    "\n",
    "# Freiberg, Rathaus\n",
    "# latitude = 50.917105614869975\n",
    "# longitude = 13.343127596353757\n",
    "# name = \"Freiberg-Rathaus\"\n",
    "\n",
    "# Dresden, Barbarossa\n",
    "# latitude = 51.0484935887155\n",
    "# longitude = 13.791861378904454\n",
    "# name = \"Dresden-Barbarossa\"\n",
    "\n",
    "# latitude = 51.04598954105737\n",
    "# longitude = 13.670338156710521\n",
    "# name = \"Dresden-Westhang\"\n",
    "\n",
    "# latitude = 51.751571964755705\n",
    "# longitude = 11.974736142893443\n",
    "# name = \"Köthen-Marktplatz\"\n",
    "\n",
    "latitude = 51.39378081125446\n",
    "longitude = 12.220909341907719\n",
    "name = \"Schkeuditz-Martktplatz\"\n",
    "\n",
    "\n",
    "G_84 = ox.graph_from_point((latitude, longitude),\n",
    "                           dist=1500, network_type='all_private', simplify=False, retain_all=True, truncate_by_edge=False)"
   ]
  },
  {
   "cell_type": "code",
   "execution_count": null,
   "metadata": {
    "tags": [
     "remove-cell"
    ]
   },
   "outputs": [],
   "source": [
    "# center_node = ox.nearest_nodes(G_84, 13.3447448, 50.9162500)\n",
    "center_node = ox.nearest_nodes(\n",
    "    G_84, longitude, latitude)\n",
    "\n",
    "\n",
    "# center_node = 3930896811\n",
    "\n",
    "\n",
    "G = ox.project_graph(G_84)"
   ]
  },
  {
   "cell_type": "code",
   "execution_count": null,
   "metadata": {},
   "outputs": [],
   "source": [
    "center_node"
   ]
  },
  {
   "cell_type": "code",
   "execution_count": null,
   "metadata": {
    "tags": [
     "remove-cell"
    ]
   },
   "outputs": [],
   "source": [
    "# add an edge attribute for time in minutes required to traverse each edge\n",
    "meters_per_minute = travel_speed * 1000 / 60  # km per hour to m per minute\n",
    "for u, v, k, data in G.edges(data=True, keys=True):\n",
    "    data['time'] = data['length'] / meters_per_minute"
   ]
  },
  {
   "cell_type": "code",
   "execution_count": null,
   "metadata": {
    "tags": [
     "remove-cell"
    ]
   },
   "outputs": [],
   "source": [
    "def convert_coordinates(geom):\n",
    "    \"\"\"Convert UTM Polygon/MultiPolygon to Lat/Lon Polygon/MultiPolygon.\"\"\"\n",
    "\n",
    "    # Define the UTM zone projection and the lat/long projection\n",
    "    utm_zone = \"EPSG:32633\"  # Example for UTM zone 33N, change as per your UTM zone\n",
    "    latlong = \"EPSG:4326\"\n",
    "    if longitude < 12:\n",
    "        zone = 32\n",
    "    else:\n",
    "        zone = 33\n",
    "    # Change zone accordingly\n",
    "    in_proj = Proj(proj='utm', zone=zone, datum='WGS84')\n",
    "    out_proj = Proj(proj='latlong', datum='WGS84')\n",
    "\n",
    "    if geom.geom_type == 'Polygon':\n",
    "        exterior_coords = [transform(in_proj, out_proj, x, y)\n",
    "                           for x, y in geom.exterior.coords]\n",
    "        interior_coords = [[transform(in_proj, out_proj, x, y)\n",
    "                            for x, y in interior.coords] for interior in geom.interiors]\n",
    "        return Polygon(exterior_coords, holes=interior_coords)\n",
    "    elif geom.geom_type == 'MultiPolygon':\n",
    "        polygons = []\n",
    "        for polygon in geom:\n",
    "            polygons.append(convert_coordinates(polygon))\n",
    "        return MultiPolygon(polygons)\n",
    "    else:\n",
    "        raise ValueError(f\"Unsupported geometry type: {geom.geom_type}\")\n",
    "\n",
    "\n",
    "# converted_isochrone_polys = [convert_coordinates(\n",
    "#     polygon) for polygon in isochrone_polys]"
   ]
  },
  {
   "cell_type": "code",
   "execution_count": null,
   "metadata": {
    "tags": [
     "remove-cell"
    ]
   },
   "outputs": [],
   "source": [
    "def prep_graph(G_84, szenario, travel_speed=3.6):\n",
    "\n",
    "    H_84 = copy.deepcopy(G_84)\n",
    "    # H_84 = G_84.copy()\n",
    "\n",
    "    scenario_filter = r4r.get_scenario_filter(cfg, szenario[\"name\"])\n",
    "    H_84 = oh.filter_graph_by_dict(\n",
    "        H_84, scenario_filter, drop_nodes=False)\n",
    "\n",
    "    # center_node = ox.nearest_nodes(H_84, longitude, latitude)\n",
    "    H = ox.project_graph(H_84)\n",
    "\n",
    "    # add an edge attribute for time in minutes required to traverse each edge\n",
    "    meters_per_minute = travel_speed * 1000 / 60  # km per hour to m per minute\n",
    "    for u, v, k, data in H.edges(data=True, keys=True):\n",
    "        data['time'] = data['length'] / meters_per_minute\n",
    "\n",
    "    return H, H_84"
   ]
  },
  {
   "cell_type": "code",
   "execution_count": null,
   "metadata": {
    "tags": [
     "remove-cell"
    ]
   },
   "outputs": [],
   "source": [
    "def make_iso_polys_time(G, edge_buff=25, node_buff=50, infill=False, time_window=15):\n",
    "    # Assume trip_times is a list of time values (in minutes) you're interested in\n",
    "    trip_times = [time_window]\n",
    "\n",
    "    isochrone_polys = []\n",
    "\n",
    "    for trip_time in trip_times:\n",
    "        subgraph = nx.ego_graph(\n",
    "            G, center_node, radius=trip_time, distance='time')\n",
    "\n",
    "        node_points = [Point((data['x'], data['y']))\n",
    "                       for node, data in subgraph.nodes(data=True)]\n",
    "        nodes_gdf = gpd.GeoDataFrame(\n",
    "            {'id': subgraph.nodes()}, geometry=node_points)\n",
    "        nodes_gdf = nodes_gdf.set_index('id')\n",
    "\n",
    "        edge_lines = []\n",
    "        for n_fr, n_to in subgraph.edges():\n",
    "            f = nodes_gdf.loc[n_fr].geometry\n",
    "            t = nodes_gdf.loc[n_to].geometry\n",
    "            edge_lookup = G.get_edge_data(n_fr, n_to).get(0,  None)\n",
    "            if edge_lookup is None:\n",
    "                continue\n",
    "            edge_lookup = edge_lookup.get(\n",
    "                'geometry',  LineString([f, t]))\n",
    "            edge_lines.append(edge_lookup)\n",
    "\n",
    "        n = nodes_gdf.buffer(node_buff).geometry\n",
    "        e = gpd.GeoSeries(edge_lines).buffer(edge_buff).geometry\n",
    "        all_gs = list(n) + list(e)\n",
    "        new_iso = gpd.GeoSeries(all_gs).unary_union\n",
    "\n",
    "        if infill:\n",
    "            new_iso = Polygon(new_iso.exterior)\n",
    "\n",
    "        isochrone_polys.append(new_iso)\n",
    "\n",
    "    return isochrone_polys"
   ]
  },
  {
   "cell_type": "code",
   "execution_count": null,
   "metadata": {
    "tags": [
     "remove-cell"
    ]
   },
   "outputs": [],
   "source": [
    "szenarios = list(cfr.yield_scenarios(cfg))\n",
    "H1, _ = prep_graph(G_84, szenarios[0], travel_speed)\n",
    "H2, _ = prep_graph(G_84, szenarios[1], travel_speed)\n",
    "H3, _ = prep_graph(G_84, szenarios[2], travel_speed)\n",
    "H4, _ = prep_graph(G_84, szenarios[3], travel_speed)\n",
    "H5, _ = prep_graph(G_84, szenarios[4], travel_speed)"
   ]
  },
  {
   "cell_type": "code",
   "execution_count": null,
   "metadata": {},
   "outputs": [],
   "source": [
    "# n = folium.Map(location=[latitude, longitude], zoom_start=15)\n",
    "# n = ox.graph_to_gdfs(H4, nodes=False).explore(m=n)\n",
    "# n"
   ]
  },
  {
   "cell_type": "code",
   "execution_count": null,
   "metadata": {
    "tags": [
     "remove-cell"
    ]
   },
   "outputs": [],
   "source": [
    "# sorting just to show the smaller once on top.\n",
    "subgraphs = [H5, H3, H1]\n",
    "colors = ['green', 'blue', 'red']\n",
    "\n",
    "fg_H5 = folium.FeatureGroup(name='Optimal')\n",
    "# fg_H2 = folium.FeatureGroup(name='Medium')\n",
    "# fg_H4 = folium.FeatureGroup(name='Large')\n",
    "fg_H3 = folium.FeatureGroup(name='Medium')\n",
    "fg_H1 = folium.FeatureGroup(name='Small')\n",
    "\n",
    "fgs = [fg_H5, fg_H3, fg_H1]\n",
    "\n",
    "m = folium.Map(location=[latitude, longitude], zoom_start=15)\n",
    "m = ox.graph_to_gdfs(G_84, nodes=False).explore(m=m)\n",
    "\n",
    "\n",
    "for i, (subgraph, fg) in enumerate(zip(subgraphs, fgs)):\n",
    "    # Generate 15-min isochrone\n",
    "    iso_polys = make_iso_polys_time(\n",
    "        subgraph, edge_buff=25, node_buff=0, infill=True, time_window=15)\n",
    "\n",
    "    # Convert coordinates if needed\n",
    "    converted_iso_polys = [convert_coordinates(\n",
    "        polygon) for polygon in iso_polys]\n",
    "\n",
    "    # Add to Folium map\n",
    "    for poly in converted_iso_polys:\n",
    "        folium.GeoJson(\n",
    "            data=mapping(poly),\n",
    "            style_function=lambda x, color=colors[i]: {\n",
    "                'color': color,\n",
    "                'weight': 5,\n",
    "                'fill': False,\n",
    "                # 'fillColor': color,\n",
    "                # 'fillOpacity': 0.1\n",
    "            }\n",
    "        ).add_to(fg)\n",
    "    fg.add_to(m)\n",
    "\n",
    "folium.LayerControl().add_to(m)\n",
    "\n",
    "# folium.Circle(\n",
    "#     location=[50.915066, 13.346332],\n",
    "#     radius=900,  # radius in meters\n",
    "#     color='green',\n",
    "#     fill=False,\n",
    "#     # fill_color='blue',\n",
    "#     # fill_opacity=0.05\n",
    "# ).add_to(m)\n",
    "\n",
    "# folium.Circle(\n",
    "#     location=[50.915066, 13.346332],\n",
    "#     radius=2600,  # radius in meters\n",
    "#     color='red',\n",
    "#     fill=False,\n",
    "#     # fill_color='blue',\n",
    "#     # fill_opacity=0.05\n",
    "# ).add_to(m)\n",
    "\n",
    "# Show the map\n",
    "# m.save(\"dominos_map_full.html\")"
   ]
  },
  {
   "cell_type": "code",
   "execution_count": null,
   "metadata": {},
   "outputs": [],
   "source": [
    "save_path = Path(\"results\", name + \"-Isochronen.html\")\n",
    "m.save(save_path)"
   ]
  },
  {
   "cell_type": "code",
   "execution_count": null,
   "metadata": {},
   "outputs": [],
   "source": [
    "m"
   ]
  }
 ],
 "metadata": {
  "kernelspec": {
   "display_name": "geo",
   "language": "python",
   "name": "python3"
  },
  "language_info": {
   "codemirror_mode": {
    "name": "ipython",
    "version": 3
   },
   "file_extension": ".py",
   "mimetype": "text/x-python",
   "name": "python",
   "nbconvert_exporter": "python",
   "pygments_lexer": "ipython3",
   "version": "3.12.1"
  },
  "orig_nbformat": 4
 },
 "nbformat": 4,
 "nbformat_minor": 2
}
