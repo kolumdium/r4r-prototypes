{
 "cells": [
  {
   "cell_type": "markdown",
   "metadata": {},
   "source": [
    "# Buildings in Freiberg"
   ]
  },
  {
   "cell_type": "code",
   "execution_count": null,
   "metadata": {},
   "outputs": [],
   "source": [
    "import osmnx as ox\n",
    "import pyproj # we need this for jupyter-book to build right...\n",
    "from IPython.display import Image"
   ]
  },
  {
   "cell_type": "code",
   "execution_count": null,
   "metadata": {},
   "outputs": [],
   "source": [
    "# configure the inline image display\n",
    "img_folder = \"images\"\n",
    "extension = \"png\"\n",
    "size = 240\n",
    "\n",
    "# specify that we're retrieving building footprint geometries\n",
    "tags = {\"building\": True}"
   ]
  },
  {
   "cell_type": "code",
   "execution_count": null,
   "metadata": {},
   "outputs": [],
   "source": [
    "# helper funcion to get one-square-mile street networks, building footprints, and plot them\n",
    "def make_plot(\n",
    "    place,\n",
    "    point,\n",
    "    network_type=\"drive\",\n",
    "    dpi=40,\n",
    "    dist=805,\n",
    "    default_width=4,\n",
    "    street_widths=None,\n",
    "):\n",
    "    fp = f\"./{img_folder}/{place}.{extension}\"\n",
    "    gdf = ox.geometries_from_point(point, tags, dist=dist)\n",
    "    fig, ax = ox.plot_figure_ground(\n",
    "        point=point,\n",
    "        dist=dist,\n",
    "        network_type=network_type,\n",
    "        default_width=default_width,\n",
    "        street_widths=street_widths,\n",
    "        save=False,\n",
    "        show=False,\n",
    "        close=True,\n",
    "    )\n",
    "    fig, ax = ox.plot_footprints(\n",
    "        gdf, ax=ax, filepath=fp, dpi=dpi, save=True, show=False, close=True\n",
    "    )\n",
    "    return fig, ax"
   ]
  },
  {
   "cell_type": "code",
   "execution_count": null,
   "metadata": {},
   "outputs": [],
   "source": [
    "place = \"freiberg_buildings\"\n",
    "point = (50.915066, 13.346332)\n",
    "fig, ax = make_plot(place, point, network_type=\"all\",\n",
    "          dpi=600, dist=1000, default_width=4)\n",
    "fig"
   ]
  },
  {
   "cell_type": "code",
   "execution_count": null,
   "metadata": {},
   "outputs": [],
   "source": []
  }
 ],
 "metadata": {
  "kernelspec": {
   "display_name": "geo",
   "language": "python",
   "name": "python3"
  },
  "language_info": {
   "codemirror_mode": {
    "name": "ipython",
    "version": 3
   },
   "file_extension": ".py",
   "mimetype": "text/x-python",
   "name": "python",
   "nbconvert_exporter": "python",
   "pygments_lexer": "ipython3",
   "version": "3.12.4"
  }
 },
 "nbformat": 4,
 "nbformat_minor": 2
}
