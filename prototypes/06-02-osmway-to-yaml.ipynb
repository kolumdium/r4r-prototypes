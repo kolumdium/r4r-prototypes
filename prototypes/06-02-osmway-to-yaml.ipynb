{
 "cells": [
  {
   "cell_type": "markdown",
   "metadata": {},
   "source": [
    "# Wegpunkte\n",
    "## TODO\n",
    "Beschreibung wie man die Wegpunkte macht.\n",
    "Aber eigentlich mach ich nur ne Line mit JOSM, geb der \"find_me\" = \"irgendein identifier\", exportier das osm, suche den identifier und gebe die wegpunkte in yaml aus."
   ]
  },
  {
   "cell_type": "code",
   "execution_count": null,
   "metadata": {},
   "outputs": [],
   "source": [
    "import osmnx as ox\n",
    "import pyproj # we need this for jupyter-book to build right\n",
    "import yaml\n",
    "from geopy.distance import geodesic"
   ]
  },
  {
   "cell_type": "code",
   "execution_count": null,
   "metadata": {},
   "outputs": [],
   "source": [
    "def calculate_track_length(coordinates):\n",
    "    track_length = 0.0\n",
    "    for i in range(len(coordinates) - 1):\n",
    "        start_point = (coordinates[i]['latitude'], coordinates[i]['longitude'])\n",
    "        end_point = (coordinates[i+1]['latitude'],\n",
    "                     coordinates[i+1]['longitude'])\n",
    "        track_length += geodesic(start_point, end_point).meters\n",
    "    return track_length"
   ]
  },
  {
   "cell_type": "code",
   "execution_count": null,
   "metadata": {},
   "outputs": [],
   "source": [
    "geo_df = ox.features_from_xml(\n",
    "    \"out/Testing GPS Waypoint making-Schkeuditz.osm\")\n",
    "\n",
    "\n",
    "geo_df.head()"
   ]
  },
  {
   "cell_type": "code",
   "execution_count": null,
   "metadata": {},
   "outputs": [],
   "source": [
    "filtered_nodes = geo_df[geo_df['findme'].notna()]\n",
    "filtered_nodes = filtered_nodes.dropna(axis=1, how='all')\n",
    "filtered_nodes"
   ]
  },
  {
   "cell_type": "code",
   "execution_count": null,
   "metadata": {},
   "outputs": [],
   "source": [
    "filtered_nodes.iloc[0].geometry\n",
    "coordinates = list(filtered_nodes.iloc[0].geometry.coords)\n",
    "data = [{'latitude': lat, 'longitude': lon, 'yaw': 0.0}\n",
    "        for lon, lat in coordinates]\n",
    "data"
   ]
  },
  {
   "cell_type": "code",
   "execution_count": null,
   "metadata": {},
   "outputs": [],
   "source": [
    "\n",
    "# Get the unique ways from the filtered_nodes GeoDataFrame\n",
    "unique_ways = filtered_nodes.index.get_level_values('osmid').unique()\n",
    "\n",
    "# Iterate over each unique way\n",
    "for way in unique_ways:\n",
    "    linestring = filtered_nodes.loc[('way', way), 'geometry']\n",
    "    # print(linestring)\n",
    "    coordinates = list(linestring.coords)\n",
    "    data = [{'latitude': lat, 'longitude': lon, 'yaw': 0.0}\n",
    "            for lon, lat in coordinates]\n",
    "    length = calculate_track_length(data)\n",
    "    # Create a YAML file path for the current way\n",
    "    name = filtered_nodes.loc[('way', way), 'findme']\n",
    "    yaml_file_path = f'out/way_{name}.yaml'\n",
    "    print(f'Writing coordinates for way {name} to {yaml_file_path}')\n",
    "    print(f'Length of the track: {length} meters')\n",
    "    # Write the coordinates to the YAML file\n",
    "    with open(yaml_file_path, 'w') as yaml_file:\n",
    "        yaml.dump(data, yaml_file, default_flow_style=False)"
   ]
  },
  {
   "cell_type": "code",
   "execution_count": null,
   "metadata": {},
   "outputs": [],
   "source": [
    "reverse = [\"Rathaus zu Bürgeramt\"]\n",
    "for way in reverse:\n",
    "    way_df = filtered_nodes[filtered_nodes['findme'] == way]\n",
    "    linestring = way_df.iloc[0].geometry\n",
    "    # linestring = filtered_nodes.loc[('findme', way), 'geometry']\n",
    "    # print(linestring)\n",
    "    coordinates = list(linestring.coords)\n",
    "    data = [{'latitude': lat, 'longitude': lon, 'yaw': 0.0}\n",
    "            for lon, lat in coordinates]\n",
    "    length = calculate_track_length(data)\n",
    "    # Create a YAML file path for the current way\n",
    "    # name = filtered_nodes.loc[('way', way), 'findme']\n",
    "    name = way\n",
    "    reversed_name = name.split(' zu ')[::-1]\n",
    "    reversed_name = ' zu '.join(reversed_name)\n",
    "    print(reversed_name)\n",
    "    name = reversed_name\n",
    "    yaml_file_path = f'out/way_{name}.yaml'\n",
    "    data.reverse()\n",
    "    print(f'Writing coordinates for way {name} to {yaml_file_path}')\n",
    "    print(f'Length of the track: {length} meters')\n",
    "    # Write the coordinates to the YAML file\n",
    "    with open(yaml_file_path, 'w') as yaml_file:\n",
    "        yaml.dump(data, yaml_file, default_flow_style=False)"
   ]
  },
  {
   "cell_type": "markdown",
   "metadata": {},
   "source": [
    "# Abschnitte\n",
    "- Rathaus -> Bürgeramt\n",
    "- Bürgeramt -> Rathaus\n",
    "- Bürgeramt -> Rathausplatz\n",
    "- Rathausplatz -> Ringstraße\n",
    "- Ringstraße -> Amtsgasse\n",
    "- Ringstraße -> Markt -> Amtsgasse\n",
    "- Rathaus -> Post\n",
    "\n",
    "## Volle Runde\n",
    "- Route\n",
    "    - Rathaus -> Bürgeramt -> Rathausplatz -> Ringstraße -> Amtsgasse -> Markt -> Rathaus -> Post -> Rathaus\n",
    "    - Rathaus zu Bürgeramt\n",
    "    - Bürgeramt zu Rathausplatz\n",
    "    - Rathausplatz zu Ringstraße\n",
    "    - Ringstraße zu Amtsgasse (über markt)\n",
    "    - Amtsgasse zu Ringstraße (über markt) (reverse)\n",
    "    - Ringstraße zu Rathausplatz (reverse)\n",
    "    - Rathausplatz zu Rathaus (reverse)\n",
    "    - Rathaus zu Post\n",
    "- Alternative:\n",
    "    - Rathaus -> Bürgeramt -> Rathausplatz -> Ringstraße -> Amtsgasse -> Rathaus -> Post -> Rathaus\n",
    "    - Rathaus zu Bürgeramt\n",
    "    - Bürgeramt zu Rathausplatz\n",
    "    - Rathausplatz zu Ringstraße\n",
    "    - Ringstraße zu Amtsgasse\n",
    "    - Amtsgasse zu Ringstraße (reverse)\n",
    "    - Ringstraße zu Rathausplatz (reverse)\n",
    "    - Rathausplatz zu Rathaus (reverse)\n",
    "    - Rathaus zu Post\n"
   ]
  },
  {
   "cell_type": "code",
   "execution_count": null,
   "metadata": {},
   "outputs": [],
   "source": [
    "# o = filtered_nodes[filtered_nodes['findme'] == \"Rathausplatz zu Ringstraße\"]\n",
    "# o.iloc[0]"
   ]
  },
  {
   "cell_type": "code",
   "execution_count": null,
   "metadata": {},
   "outputs": [],
   "source": []
  },
  {
   "cell_type": "code",
   "execution_count": null,
   "metadata": {},
   "outputs": [],
   "source": [
    "def get_coords(df, way_name, reverse=False):\n",
    "    way_df = df[df['findme'] == way_name]\n",
    "    coordinates = list(way_df.iloc[0].geometry.coords)\n",
    "    data = [{'latitude': lat, 'longitude': lon, 'yaw': 0.0}\n",
    "            for lon, lat in coordinates]\n",
    "    if reverse:\n",
    "        data.reverse()\n",
    "    return data"
   ]
  },
  {
   "cell_type": "code",
   "execution_count": null,
   "metadata": {},
   "outputs": [],
   "source": []
  },
  {
   "cell_type": "code",
   "execution_count": null,
   "metadata": {},
   "outputs": [],
   "source": [
    "a = [\"Rathaus zu Bürgeramt\", \"Bürgeramt zu Rathausplatz\",\n",
    "     \"Rathausplatz zu Ringstraße\", \"Ringstraße zu Amtsgasse über Markt\"]\n",
    "b = [\"Ringstraße zu Amtsgasse über Markt\", \"Rathausplatz zu Ringstraße\",\n",
    "     \"Rathaus zu Rathausplatz\"]  # all reversed\n",
    "c = [\"Rathaus zu Post\"]\n",
    "d = [\"Rathaus zu Post\"]  # reversed\n",
    "full_route = []\n",
    "for entry in a:\n",
    "    full_route += get_coords(filtered_nodes, entry)\n",
    "for entry in b:\n",
    "    full_route += get_coords(filtered_nodes, entry, reverse=True)\n",
    "for entry in c:\n",
    "    full_route += get_coords(filtered_nodes, entry)\n",
    "for entry in d:\n",
    "    full_route += get_coords(filtered_nodes, entry, reverse=True)\n",
    "full_route"
   ]
  },
  {
   "cell_type": "code",
   "execution_count": null,
   "metadata": {},
   "outputs": [],
   "source": [
    "length = calculate_track_length(full_route)\n",
    "print(f'Writing coordinates for way {name} to {yaml_file_path}')\n",
    "print(f'Length of the track: {length} meters')"
   ]
  },
  {
   "cell_type": "code",
   "execution_count": null,
   "metadata": {},
   "outputs": [],
   "source": [
    "with open(\"out/way_full_route.yaml\", 'w') as yaml_file:\n",
    "    yaml.dump(full_route, yaml_file, default_flow_style=False)"
   ]
  },
  {
   "cell_type": "code",
   "execution_count": null,
   "metadata": {},
   "outputs": [],
   "source": [
    "a = [\"Rathaus zu Bürgeramt\", \"Bürgeramt zu Rathausplatz\",\n",
    "     \"Rathausplatz zu Ringstraße\", \"Ringstraße zu Amtsgasse\"]\n",
    "b = [\"Ringstraße zu Amtsgasse\", \"Rathausplatz zu Ringstraße\",\n",
    "     \"Rathaus zu Rathausplatz\"]  # all reversed\n",
    "c = [\"Rathaus zu Post\"]\n",
    "d = [\"Rathaus zu Post\"]  # reversed\n",
    "full_route_alternative = []\n",
    "for entry in a:\n",
    "    full_route_alternative += get_coords(filtered_nodes, entry)\n",
    "for entry in b:\n",
    "    full_route_alternative += get_coords(filtered_nodes, entry, reverse=True)\n",
    "for entry in c:\n",
    "    full_route_alternative += get_coords(filtered_nodes, entry)\n",
    "for entry in d:\n",
    "    full_route_alternative += get_coords(filtered_nodes, entry, reverse=True)\n",
    "full_route_alternative"
   ]
  },
  {
   "cell_type": "code",
   "execution_count": null,
   "metadata": {},
   "outputs": [],
   "source": [
    "length = calculate_track_length(full_route_alternative)\n",
    "print(f'Writing coordinates for way {name} to {yaml_file_path}')\n",
    "print(f'Length of the track: {length} meters')"
   ]
  },
  {
   "cell_type": "code",
   "execution_count": null,
   "metadata": {},
   "outputs": [],
   "source": [
    "with open(\"out/way_full_route_alternative.yaml\", 'w') as yaml_file:\n",
    "    yaml.dump(full_route_alternative, yaml_file, default_flow_style=False)"
   ]
  },
  {
   "cell_type": "code",
   "execution_count": null,
   "metadata": {},
   "outputs": [],
   "source": []
  }
 ],
 "metadata": {
  "kernelspec": {
   "display_name": "geo",
   "language": "python",
   "name": "python3"
  },
  "language_info": {
   "codemirror_mode": {
    "name": "ipython",
    "version": 3
   },
   "file_extension": ".py",
   "mimetype": "text/x-python",
   "name": "python",
   "nbconvert_exporter": "python",
   "pygments_lexer": "ipython3",
   "version": "3.12.1"
  }
 },
 "nbformat": 4,
 "nbformat_minor": 2
}
