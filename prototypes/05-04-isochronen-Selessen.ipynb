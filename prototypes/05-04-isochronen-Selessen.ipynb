{
 "cells": [
  {
   "cell_type": "markdown",
   "metadata": {},
   "source": [
    "# Isochronen in Selessen\n",
    "\n",
    "Für die Erklärung bitte [hier gucken:](beispiel-dominos-freiberg)\n",
    "\n",
    "\n",
    "## Scenario Beschreibungen:\n",
    "- Für eine Detailierte Beschreibung bitte in [beschreibung-szenarien](beschreibung-szenarien) gucken.\n",
    "- tl;dr\n",
    "    - Small: Nur Sidewalks\n",
    "    - Medium: Alles außer Große Straßen\n",
    "    - Medium-restricted: Sidewalks und Radwege\n",
    "    - Large: Nur Straßen keine Fuß und Radwege\n",
    "    - Optimal: Alles\n"
   ]
  },
  {
   "cell_type": "code",
   "execution_count": null,
   "metadata": {
    "tags": [
     "remove-cell"
    ]
   },
   "outputs": [],
   "source": [
    "import folium\n",
    "import geopandas as gpd\n",
    "import matplotlib.pyplot as plt\n",
    "import networkx as nx\n",
    "import numpy as np\n",
    "import osmnx as ox\n",
    "import pyproj # we need this for jupyter-book to build right\n",
    "from configobj import ConfigObj\n",
    "# from descartes import PolygonPatch\n",
    "from pathlib import Path\n",
    "from helpers import configreader as cfr\n",
    "from helpers import osmhelper as oh\n",
    "from helpers import ready4robots as r4r\n",
    "from numpy import asarray, concatenate, ones\n",
    "from pyproj import Proj, transform\n",
    "from shapely.geometry import LineString, MultiPolygon, Point, Polygon, GeometryCollection\n",
    "from shapely.geometry import mapping"
   ]
  },
  {
   "cell_type": "code",
   "execution_count": null,
   "metadata": {
    "tags": [
     "remove-cell"
    ]
   },
   "outputs": [],
   "source": [
    "import warnings\n",
    "warnings.filterwarnings('ignore')\n",
    "ox.__version__"
   ]
  },
  {
   "cell_type": "code",
   "execution_count": null,
   "metadata": {},
   "outputs": [],
   "source": [
    "cfg = ConfigObj(\"notebook.ini\")\n",
    "place = \"Zelezna, Spremberg\"\n",
    "trip_times = [5, 10, 15, 20, 25, 30]  # in minutes\n",
    "travel_speed = 3.6  # in km/h\n",
    "\n",
    "ox.settings.useful_tags_way += cfr.get_relevant_tags(cfg)\n",
    "# ox.config(log_console=True, use_cache=True)"
   ]
  },
  {
   "cell_type": "markdown",
   "metadata": {},
   "source": [
    "## Alle Straßen\n",
    "### Download and prep the street network"
   ]
  },
  {
   "cell_type": "code",
   "execution_count": null,
   "metadata": {},
   "outputs": [],
   "source": [
    "# download the street network\n",
    "# G_84 = r4r.get_graph(place)\n",
    "\n",
    "# latitude = 51.047993772661066\n",
    "# longitude = 13.74043214154367\n",
    "latitude = 51.605626793819496\n",
    "longitude = 14.41044501229336\n",
    "center_point = (latitude, longitude)\n",
    "G_84 = ox.graph_from_point((latitude, longitude),\n",
    "                           dist=2000, network_type='all', simplify=True)\n",
    "\n",
    "# G_84 = ox.graph_from_place(place, network_type='all', simplify=True)"
   ]
  },
  {
   "cell_type": "code",
   "execution_count": null,
   "metadata": {},
   "outputs": [],
   "source": [
    "# find the centermost node and then project the graph to UTM\n",
    "# gdf_nodes = ox.graph_to_gdfs(G_84, edges=False)\n",
    "# x, y = gdf_nodes['geometry'].unary_union.centroid.xy\n",
    "# center_node = ox.nearest_nodes(G_84, x[0], y[0])\n",
    "# center_node = ox.nearest_nodes(G_84, 13.3447448, 50.9162500)\n",
    "center_node = ox.nearest_nodes(\n",
    "    G_84, longitude, latitude)  # Dresden, Rathaus\n",
    "# center_node = 3930896811\n",
    "G = ox.project_graph(G_84)"
   ]
  },
  {
   "cell_type": "code",
   "execution_count": null,
   "metadata": {},
   "outputs": [],
   "source": [
    "center_node"
   ]
  },
  {
   "cell_type": "code",
   "execution_count": null,
   "metadata": {},
   "outputs": [],
   "source": [
    "# add an edge attribute for time in minutes required to traverse each edge\n",
    "meters_per_minute = travel_speed * 1000 / 60  # km per hour to m per minute\n",
    "for u, v, k, data in G.edges(data=True, keys=True):\n",
    "    data['time'] = data['length'] / meters_per_minute"
   ]
  },
  {
   "cell_type": "code",
   "execution_count": null,
   "metadata": {},
   "outputs": [],
   "source": [
    "# get one color for each isochrone\n",
    "iso_colors = ox.plot.get_colors(\n",
    "    n=len(trip_times), cmap='plasma', start=0)"
   ]
  },
  {
   "cell_type": "code",
   "execution_count": null,
   "metadata": {},
   "outputs": [],
   "source": [
    "# color the nodes according to isochrone then plot the street network\n",
    "node_colors = {}\n",
    "for trip_time, color in zip(sorted(trip_times, reverse=True), iso_colors):\n",
    "    subgraph = nx.ego_graph(G, center_node, radius=trip_time, distance='time')\n",
    "    for node in subgraph.nodes():\n",
    "        node_colors[node] = color\n",
    "nc = [node_colors[node] if node in node_colors else 'none' for node in G.nodes()]\n",
    "ns = [15 if node in node_colors else 0 for node in G.nodes()]\n",
    "fig, ax = ox.plot_graph(G, node_color=nc, node_size=ns, node_alpha=0.8, node_zorder=2,\n",
    "                        bgcolor='k', edge_linewidth=0.2, edge_color='#999999', figsize=(16, 16))"
   ]
  },
  {
   "cell_type": "markdown",
   "metadata": {},
   "source": [
    "### Plot the time-distances as isochrones\n",
    "How far can you walk in 5, 10, 15, 20, and 25 minutes from the origin node? We'll use a convex hull, which isn't perfectly accurate. A concave hull would be better, but shapely doesn't offer that."
   ]
  },
  {
   "cell_type": "code",
   "execution_count": null,
   "metadata": {},
   "outputs": [],
   "source": [
    "# make the isochrone polygons\n",
    "isochrone_polys = []\n",
    "for trip_time in sorted(trip_times, reverse=True):\n",
    "    subgraph = nx.ego_graph(G, center_node, radius=trip_time, distance='time')\n",
    "    node_points = [Point((data['x'], data['y']))\n",
    "                   for node, data in subgraph.nodes(data=True)]\n",
    "    bounding_poly = gpd.GeoSeries(node_points).unary_union.convex_hull\n",
    "    isochrone_polys.append(bounding_poly)"
   ]
  },
  {
   "cell_type": "code",
   "execution_count": null,
   "metadata": {},
   "outputs": [],
   "source": [
    "# First, plot the network\n",
    "fig, ax = ox.plot_graph(G, show=False, close=False,\n",
    "                        edge_color='#999999', edge_alpha=0.2, node_size=0, bgcolor='k')\n",
    "\n",
    "# Now, plot each isochrone polygon\n",
    "for polygon, color in zip(isochrone_polys, iso_colors):\n",
    "    # Extract the exterior coordinates of the polygon\n",
    "    x, y = polygon.exterior.xy\n",
    "    ax.fill(x, y, fc=color, ec='none', alpha=0.6, zorder=-1)\n",
    "\n",
    "    # If there are interiors (holes) in the polygon, plot them too\n",
    "    for interior in polygon.interiors:\n",
    "        x, y = interior.xy\n",
    "        # Fill the hole with the background color (in this case, black)\n",
    "        ax.fill(x, y, fc='k', ec='none', alpha=0.6)\n",
    "\n",
    "plt.show()"
   ]
  },
  {
   "cell_type": "markdown",
   "metadata": {},
   "source": [
    "(faithful-isochrones)=\n",
    "### Or, plot isochrones as buffers to get more faithful isochrones than convex hulls can offer\n"
   ]
  },
  {
   "cell_type": "code",
   "execution_count": null,
   "metadata": {},
   "outputs": [],
   "source": [
    "def make_iso_polys(G, center_node, edge_buff=25, node_buff=50, infill=False):\n",
    "    isochrone_polys = []\n",
    "    for trip_time in sorted(trip_times, reverse=True):\n",
    "        subgraph = nx.ego_graph(\n",
    "            G, center_node, radius=trip_time, distance='time')\n",
    "\n",
    "        node_points = [Point((data['x'], data['y']))\n",
    "                       for node, data in subgraph.nodes(data=True)]\n",
    "        nodes_gdf = gpd.GeoDataFrame(\n",
    "            {'id': subgraph.nodes()}, geometry=node_points)\n",
    "        nodes_gdf = nodes_gdf.set_index('id')\n",
    "\n",
    "        edge_lines = []\n",
    "        for n_fr, n_to in subgraph.edges():\n",
    "            f = nodes_gdf.loc[n_fr].geometry\n",
    "            t = nodes_gdf.loc[n_to].geometry\n",
    "            edge_data = G.get_edge_data(n_fr, n_to).get(0, None)\n",
    "            if edge_data is None:\n",
    "                continue\n",
    "            edge_lookup = edge_data.get(\n",
    "                'geometry',  LineString([f, t]))\n",
    "            edge_lines.append(edge_lookup)\n",
    "\n",
    "        n = nodes_gdf.buffer(node_buff).geometry\n",
    "        e = gpd.GeoSeries(edge_lines).buffer(edge_buff).geometry\n",
    "        all_gs = list(n) + list(e)\n",
    "        new_iso = gpd.GeoSeries(all_gs).unary_union\n",
    "\n",
    "        # try to fill in surrounded areas so shapes will appear solid and blocks without white space inside them\n",
    "        # Handle GeometryCollection case\n",
    "        if isinstance(new_iso, (Polygon, MultiPolygon)):\n",
    "            if infill:\n",
    "                new_iso = Polygon(new_iso.exterior)\n",
    "            isochrone_polys.append(new_iso)\n",
    "        elif isinstance(new_iso, GeometryCollection):\n",
    "            print(new_iso)\n",
    "    return isochrone_polys"
   ]
  },
  {
   "cell_type": "code",
   "execution_count": null,
   "metadata": {},
   "outputs": [],
   "source": [
    "def make_iso_polys_time(G, center_node=None, edge_buff=25, node_buff=50, infill=False, time_window=15):\n",
    "    # Assume trip_times is a list of time values (in minutes) you're interested in\n",
    "    trip_times = [time_window]\n",
    "\n",
    "    isochrone_polys = []\n",
    "\n",
    "    for trip_time in trip_times:\n",
    "        subgraph = nx.ego_graph(\n",
    "            G, center_node, radius=trip_time, distance='time')\n",
    "\n",
    "        node_points = [Point((data['x'], data['y']))\n",
    "                       for node, data in subgraph.nodes(data=True)]\n",
    "        nodes_gdf = gpd.GeoDataFrame(\n",
    "            {'id': subgraph.nodes()}, geometry=node_points)\n",
    "        nodes_gdf = nodes_gdf.set_index('id')\n",
    "\n",
    "        edge_lines = []\n",
    "        for n_fr, n_to in subgraph.edges():\n",
    "            f = nodes_gdf.loc[n_fr].geometry\n",
    "            t = nodes_gdf.loc[n_to].geometry\n",
    "            edge_lookup = G.get_edge_data(n_fr, n_to).get(0,  None)\n",
    "            if edge_lookup is None:\n",
    "                continue\n",
    "            edge_lookup = edge_lookup.get(\n",
    "                'geometry',  LineString([f, t]))\n",
    "            edge_lines.append(edge_lookup)\n",
    "\n",
    "        n = nodes_gdf.buffer(node_buff).geometry\n",
    "        e = gpd.GeoSeries(edge_lines).buffer(edge_buff).geometry\n",
    "        all_gs = list(n) + list(e)\n",
    "        new_iso = gpd.GeoSeries(all_gs).unary_union\n",
    "\n",
    "        if infill:\n",
    "            new_iso = Polygon(new_iso.exterior)\n",
    "\n",
    "        isochrone_polys.append(new_iso)\n",
    "\n",
    "    return isochrone_polys"
   ]
  },
  {
   "cell_type": "code",
   "execution_count": null,
   "metadata": {},
   "outputs": [],
   "source": [
    "def convert_coordinates(geom):\n",
    "    \"\"\"Convert UTM Polygon/MultiPolygon to Lat/Lon Polygon/MultiPolygon.\"\"\"\n",
    "    if geom is None:\n",
    "        return\n",
    "    # Define the UTM zone projection and the lat/long projection\n",
    "    utm_zone = \"EPSG:32633\"  # Example for UTM zone 33N, change as per your UTM zone\n",
    "    latlong = \"EPSG:4326\"\n",
    "    # Change zone accordingly\n",
    "    in_proj = Proj(proj='utm', zone=33, datum='WGS84')\n",
    "    out_proj = Proj(proj='latlong', datum='WGS84')\n",
    "\n",
    "    if geom.geom_type == 'Polygon':\n",
    "        exterior_coords = [transform(in_proj, out_proj, x, y)\n",
    "                           for x, y in geom.exterior.coords]\n",
    "        interior_coords = [[transform(in_proj, out_proj, x, y)\n",
    "                            for x, y in interior.coords] for interior in geom.interiors]\n",
    "        return Polygon(exterior_coords, holes=interior_coords)\n",
    "    elif geom.geom_type == 'MultiPolygon':\n",
    "        polygons = []\n",
    "        for polygon in geom:\n",
    "            polygons.append(convert_coordinates(polygon))\n",
    "        return MultiPolygon(polygons)\n",
    "    else:\n",
    "        raise ValueError(f\"Unsupported geometry type: {geom.geom_type}\")"
   ]
  },
  {
   "cell_type": "code",
   "execution_count": null,
   "metadata": {},
   "outputs": [],
   "source": [
    "# Plotting section\n",
    "isochrone_polys = make_iso_polys(\n",
    "    G, center_node=center_node, edge_buff=25, node_buff=0, infill=True)\n",
    "fig, ax = ox.plot_graph(G, show=False, close=False,\n",
    "                        edge_color='#999999', edge_alpha=0.2, node_size=0, bgcolor='k')\n",
    "\n",
    "# Plot each isochrone polygon\n",
    "for polygon, color in zip(isochrone_polys, iso_colors):\n",
    "    # Extract the exterior coordinates of the polygon\n",
    "    x, y = polygon.exterior.xy\n",
    "    ax.fill(x, y, fc=color, ec='none', alpha=0.6, zorder=-1)\n",
    "\n",
    "    # If there are interiors (holes) in the polygon, plot them too\n",
    "    for interior in polygon.interiors:\n",
    "        x, y = interior.xy\n",
    "        # Fill the hole with the background color (in this case, black)\n",
    "        ax.fill(x, y, fc='k', ec='none', alpha=0.6)\n",
    "\n",
    "plt.show()"
   ]
  },
  {
   "cell_type": "code",
   "execution_count": null,
   "metadata": {},
   "outputs": [],
   "source": [
    "converted_isochrone_polys = [convert_coordinates(\n",
    "    polygon) for polygon in isochrone_polys]"
   ]
  },
  {
   "cell_type": "code",
   "execution_count": null,
   "metadata": {},
   "outputs": [],
   "source": [
    "# m = folium.Map(location=[converted_isochrone_polys[0].centroid.y,\n",
    "#                converted_isochrone_polys[0].centroid.x], zoom_start=14)\n",
    "m = ox.graph_to_gdfs(G_84, nodes=False).explore()\n",
    "\n",
    "center_point = [latitude, longitude]\n",
    "folium_iso_colors = [\"green\", \"blue\", \"yellow\", \"orange\", \"red\"]\n",
    "\n",
    "# Add each isochrone polygon to the map\n",
    "for polygon, color in zip(converted_isochrone_polys, folium_iso_colors):\n",
    "    folium.Polygon(\n",
    "        locations=[(lat, lon) for lon, lat in polygon.exterior.coords],\n",
    "        fill=False,\n",
    "        # fill_opacity=0.05,\n",
    "        # fill_color=color,\n",
    "        color=color,\n",
    "        weight=5\n",
    "    ).add_to(m)\n",
    "\n",
    "\n",
    "# Display the map\n",
    "m"
   ]
  },
  {
   "cell_type": "code",
   "execution_count": null,
   "metadata": {},
   "outputs": [],
   "source": [
    "def make_folium(G_84, converted_isochrone_polys, iso_colors, center_point):\n",
    "    # Add each isochrone polygon to the map\n",
    "    m = ox.graph_to_gdfs(G_84, nodes=False).explore()\n",
    "\n",
    "    for polygon, color in zip(converted_isochrone_polys, iso_colors):\n",
    "        if polygon is None:\n",
    "            continue\n",
    "        folium.Polygon(\n",
    "            locations=[(lat, lon) for lon, lat in polygon.exterior.coords],\n",
    "            fill=False,\n",
    "            # fill_opacity=0.1,\n",
    "            # fill_color=color,\n",
    "            color=color,\n",
    "            weight=5\n",
    "        ).add_to(m)\n",
    "\n",
    "    return m"
   ]
  },
  {
   "cell_type": "code",
   "execution_count": null,
   "metadata": {},
   "outputs": [],
   "source": [
    "# Get the Graph\n",
    "def prep_graph(place, szenario, travel_speed=3.6, center_point=(51.605626793819496, 14.41044501229336)):\n",
    "\n",
    "    # Hier sind zwei gemeinden direkt nebeneinander weshalb der fetch für den Ortsnamen nicht so richtig klappt.\n",
    "    # G_84 = r4r.get_graph(place, simplify=False)\n",
    "\n",
    "    G_84 = ox.graph_from_point(center_point,\n",
    "                               dist=2000, network_type='all', simplify=True)\n",
    "\n",
    "    scenario_filter = r4r.get_scenario_filter(cfg, szenario[\"name\"])\n",
    "    H_84 = oh.filter_graph_by_dict(\n",
    "        G_84.copy(), scenario_filter, drop_nodes=False)\n",
    "\n",
    "    # center_node = ox.nearest_nodes(H_84, center_point)\n",
    "    H = ox.project_graph(H_84)\n",
    "\n",
    "    # add an edge attribute for time in minutes required to traverse each edge\n",
    "    meters_per_minute = travel_speed * 1000 / 60  # km per hour to m per minute\n",
    "    for u, v, k, data in H.edges(data=True, keys=True):\n",
    "        data['time'] = data['length'] / meters_per_minute\n",
    "\n",
    "    return H, H_84"
   ]
  },
  {
   "cell_type": "code",
   "execution_count": null,
   "metadata": {},
   "outputs": [],
   "source": [
    "szenarios = list(cfr.yield_scenarios(cfg))"
   ]
  },
  {
   "cell_type": "code",
   "execution_count": null,
   "metadata": {},
   "outputs": [],
   "source": [
    "# G_84 = r4r.get_graph(place, simplify=True)\n",
    "# nodes, edges = ox.graph_to_gdfs(G_84)\n",
    "# nodes"
   ]
  },
  {
   "cell_type": "code",
   "execution_count": null,
   "metadata": {},
   "outputs": [],
   "source": [
    "# nodes.loc[1689420337]"
   ]
  },
  {
   "cell_type": "markdown",
   "metadata": {},
   "source": [
    "## Small\n",
    "\n",
    "- Small: Nur Sidewalks"
   ]
  },
  {
   "cell_type": "code",
   "execution_count": null,
   "metadata": {},
   "outputs": [],
   "source": [
    "H1, H1_84 = prep_graph(place, szenarios[0], travel_speed)"
   ]
  },
  {
   "cell_type": "code",
   "execution_count": null,
   "metadata": {},
   "outputs": [],
   "source": [
    "center_node = ox.nearest_nodes(\n",
    "    H1_84, longitude, latitude+0.001) # we move the center point a bit to have a better isochrone.\n",
    "center_node"
   ]
  },
  {
   "cell_type": "code",
   "execution_count": null,
   "metadata": {},
   "outputs": [],
   "source": [
    "# ox.plot_graph(H1, node_size=0, edge_linewidth=0.5)"
   ]
  },
  {
   "cell_type": "code",
   "execution_count": null,
   "metadata": {},
   "outputs": [],
   "source": [
    "# Filter Graph as per Szenario\n",
    "# Plot Isochrones\n",
    "\n",
    "isochrone_polys = make_iso_polys(\n",
    "    H1, center_node=center_node, edge_buff=25, node_buff=0, infill=True)\n",
    "converted_isochrone_polys = [convert_coordinates(\n",
    "    polygon) for polygon in isochrone_polys]\n",
    "\n",
    "m = make_folium(H1_84, converted_isochrone_polys,\n",
    "                folium_iso_colors, center_point=center_point)\n",
    "m"
   ]
  },
  {
   "cell_type": "code",
   "execution_count": null,
   "metadata": {},
   "outputs": [],
   "source": [
    "# color the nodes according to isochrone then plot the street network\n",
    "node_colors = {}\n",
    "for trip_time, color in zip(sorted(trip_times, reverse=True), iso_colors):\n",
    "    subgraph = nx.ego_graph(H1, center_node, radius=trip_time, distance='time')\n",
    "    for node in subgraph.nodes():\n",
    "        node_colors[node] = color\n",
    "nc = [node_colors[node] if node in node_colors else 'none' for node in H1.nodes()]\n",
    "ns = [15 if node in node_colors else 0 for node in H1.nodes()]\n",
    "fig\n",
    "fig, ax = ox.plot_graph(H1, node_color=nc, node_size=ns, node_alpha=0.8, node_zorder=2,\n",
    "                        bgcolor='k', edge_linewidth=0.2, edge_color='#999999', figsize=(16, 16))"
   ]
  },
  {
   "cell_type": "markdown",
   "metadata": {},
   "source": [
    "## Medium\n",
    "\n",
    "- Medium: Alles außer große Straßen"
   ]
  },
  {
   "cell_type": "code",
   "execution_count": null,
   "metadata": {},
   "outputs": [],
   "source": [
    "H2, H2_84 = prep_graph(place, szenarios[1], travel_speed)\n",
    "isochrone_polys = make_iso_polys(\n",
    "    H2, center_node=center_node, edge_buff=25, node_buff=0, infill=True)\n",
    "converted_isochrone_polys = [convert_coordinates(\n",
    "    polygon) for polygon in isochrone_polys]\n",
    "m = make_folium(H2_84, converted_isochrone_polys,\n",
    "                folium_iso_colors, center_point=center_point)\n",
    "m"
   ]
  },
  {
   "cell_type": "code",
   "execution_count": null,
   "metadata": {},
   "outputs": [],
   "source": [
    "# color the nodes according to isochrone then plot the street network\n",
    "node_colors = {}\n",
    "for trip_time, color in zip(sorted(trip_times, reverse=True), iso_colors):\n",
    "    subgraph = nx.ego_graph(H2, center_node, radius=trip_time, distance='time')\n",
    "    for node in subgraph.nodes():\n",
    "        node_colors[node] = color\n",
    "nc = [node_colors[node] if node in node_colors else 'none' for node in H2.nodes()]\n",
    "ns = [15 if node in node_colors else 0 for node in H2.nodes()]\n",
    "fig\n",
    "fig, ax = ox.plot_graph(H2, node_color=nc, node_size=ns, node_alpha=0.8, node_zorder=2,\n",
    "                        bgcolor='k', edge_linewidth=0.2, edge_color='#999999', figsize=(16, 16))"
   ]
  },
  {
   "cell_type": "markdown",
   "metadata": {},
   "source": [
    "## Medium-restricted\n",
    "\n",
    "- Medium-restricted: Sidewalks und Radwege\n"
   ]
  },
  {
   "cell_type": "code",
   "execution_count": null,
   "metadata": {},
   "outputs": [],
   "source": [
    "H3, H3_84 = prep_graph(place, szenarios[2], travel_speed)\n",
    "isochrone_polys = make_iso_polys(\n",
    "    H3, center_node=center_node, edge_buff=25, node_buff=0, infill=True)\n",
    "converted_isochrone_polys = [convert_coordinates(\n",
    "    polygon) for polygon in isochrone_polys]\n",
    "m = make_folium(H3_84, converted_isochrone_polys,\n",
    "                folium_iso_colors, center_point=center_point)\n",
    "m"
   ]
  },
  {
   "cell_type": "code",
   "execution_count": null,
   "metadata": {},
   "outputs": [],
   "source": [
    "# color the nodes according to isochrone then plot the street network\n",
    "node_colors = {}\n",
    "for trip_time, color in zip(sorted(trip_times, reverse=True), iso_colors):\n",
    "    subgraph = nx.ego_graph(H3, center_node, radius=trip_time, distance='time')\n",
    "    for node in subgraph.nodes():\n",
    "        node_colors[node] = color\n",
    "nc = [node_colors[node] if node in node_colors else 'none' for node in H3.nodes()]\n",
    "ns = [15 if node in node_colors else 0 for node in H3.nodes()]\n",
    "fig\n",
    "fig, ax = ox.plot_graph(H3, node_color=nc, node_size=ns, node_alpha=0.8, node_zorder=2,\n",
    "                        bgcolor='k', edge_linewidth=0.2, edge_color='#999999', figsize=(16, 16))"
   ]
  },
  {
   "cell_type": "markdown",
   "metadata": {},
   "source": [
    "## Large\n",
    "\n",
    "- Large: Nur Straßen keine Fuß und Radwege"
   ]
  },
  {
   "cell_type": "code",
   "execution_count": null,
   "metadata": {},
   "outputs": [],
   "source": [
    "H4, H4_84 = prep_graph(place, szenarios[3], travel_speed)\n",
    "isochrone_polys = make_iso_polys(\n",
    "    H4, center_node=center_node, edge_buff=25, node_buff=0, infill=True)\n",
    "converted_isochrone_polys = [convert_coordinates(\n",
    "    polygon) for polygon in isochrone_polys]\n",
    "m = make_folium(H4_84, converted_isochrone_polys,\n",
    "                folium_iso_colors, center_point=center_point)\n",
    "m"
   ]
  },
  {
   "cell_type": "code",
   "execution_count": null,
   "metadata": {},
   "outputs": [],
   "source": [
    "# color the nodes according to isochrone then plot the street network\n",
    "node_colors = {}\n",
    "for trip_time, color in zip(sorted(trip_times, reverse=True), iso_colors):\n",
    "    subgraph = nx.ego_graph(H4, center_node, radius=trip_time, distance='time')\n",
    "    for node in subgraph.nodes():\n",
    "        node_colors[node] = color\n",
    "nc = [node_colors[node] if node in node_colors else 'none' for node in H4.nodes()]\n",
    "ns = [15 if node in node_colors else 0 for node in H4.nodes()]\n",
    "fig\n",
    "fig, ax = ox.plot_graph(H4, node_color=nc, node_size=ns, node_alpha=0.8, node_zorder=2,\n",
    "                        bgcolor='k', edge_linewidth=0.2, edge_color='#999999', figsize=(16, 16))"
   ]
  },
  {
   "cell_type": "markdown",
   "metadata": {},
   "source": [
    "## Optimal\n",
    "\n",
    "- Optimal: Alles\n",
    "\n",
    "Selbe wie [hier oben](faithful-isochrones)"
   ]
  },
  {
   "cell_type": "code",
   "execution_count": null,
   "metadata": {},
   "outputs": [],
   "source": [
    "H5, H5_84 = prep_graph(place, szenarios[4], travel_speed)\n",
    "isochrone_polys = make_iso_polys(\n",
    "    H5, center_node=center_node, edge_buff=25, node_buff=0, infill=True)\n",
    "converted_isochrone_polys = [convert_coordinates(\n",
    "    polygon) for polygon in isochrone_polys]\n",
    "m = make_folium(H5_84, converted_isochrone_polys,\n",
    "                folium_iso_colors, center_point=center_point)\n",
    "m"
   ]
  }
 ],
 "metadata": {
  "kernelspec": {
   "display_name": "geo",
   "language": "python",
   "name": "python3"
  },
  "language_info": {
   "codemirror_mode": {
    "name": "ipython",
    "version": 3
   },
   "file_extension": ".py",
   "mimetype": "text/x-python",
   "name": "python",
   "nbconvert_exporter": "python",
   "pygments_lexer": "ipython3",
   "version": "3.12.4"
  },
  "orig_nbformat": 4
 },
 "nbformat": 4,
 "nbformat_minor": 2
}
